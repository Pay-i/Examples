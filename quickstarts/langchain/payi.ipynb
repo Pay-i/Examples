{
 "cells": [
  {
   "cell_type": "code",
   "execution_count": null,
   "metadata": {},
   "outputs": [],
   "source": [
    "%pip install -r requirements.txt"
   ]
  },
  {
   "cell_type": "markdown",
   "metadata": {},
   "source": [
    "Create a Payi client and budget"
   ]
  },
  {
   "cell_type": "code",
   "execution_count": null,
   "metadata": {},
   "outputs": [],
   "source": [
    "from payi import Payi\n",
    "import os \n",
    "\n",
    "#Read the API KEYs from the environment, replace the default values (the second argument) with your own keys if needed\n",
    "openai_key = os.getenv(\"OPENAI_API_KEY\", \"YOUR_OPENAI_KEY\")\n",
    "payi_api_key = os.getenv(\"PAYI_API_KEY\", \"YOUR_PAYI_API_KEY\")\n",
    "\n",
    "payi_client = Payi(\n",
    "    api_key=payi_api_key\n",
    ")\n",
    "\n",
    "#Create a budget\n",
    "budget_response = payi_client.budgets.create(\n",
    "    #As long as the budget configuration remains the same across creates, the same budget name can be used repeatedly\n",
    "    budget_name='Langchain quickstart liberal allow budget', \n",
    "    max=12.50, #$12.50 USD\n",
    "    budget_type=\"Liberal\",\n",
    "    budget_response_type=\"Allow\",\n",
    "    budget_tags=[\"example_budget\"]\n",
    ")\n",
    "\n",
    "budget_name = budget_response.budget.budget_name\n",
    "budget_id = budget_response.budget.budget_id\n",
    "\n",
    "print(\"Budget Created\")\n",
    "print(f\"Budget Name: {budget_name}\")\n",
    "print(f\"Budget ID: {budget_id}\")\n",
    "\n"
   ]
  },
  {
   "cell_type": "markdown",
   "metadata": {},
   "source": [
    "Define the callback to be invoked when the LLM call ends"
   ]
  },
  {
   "cell_type": "code",
   "execution_count": null,
   "metadata": {},
   "outputs": [],
   "source": [
    "from langchain_core.callbacks import BaseCallbackHandler\n",
    "from langchain_core.prompts import ChatPromptTemplate\n",
    "\n",
    "class PayiHandler(BaseCallbackHandler):\n",
    "    def __init__(self, client, params):\n",
    "        self.name = \"custom_handler\"\n",
    "        self.client = client\n",
    "        self.params = {\n",
    "            **params\n",
    "        }\n",
    "\n",
    "    def on_llm_end(self, response, **kwargs):\n",
    "        llm_output = response.llm_output\n",
    "        if llm_output and 'token_usage' in llm_output:\n",
    "            token_usage = llm_output['token_usage']\n",
    "            prompt_tokens = token_usage.get('prompt_tokens', 0)\n",
    "            completion_tokens = token_usage.get('completion_tokens', 0)\n",
    "\n",
    "            if not (prompt_tokens > 0 or completion_tokens > 0):\n",
    "                print(f\"{self.name}: no token usage in LLM output\", response)\n",
    "                return\n",
    "\n",
    "            try:\n",
    "                # uncomment either budget_ids or request_tags if you want to use them\n",
    "                result = self.client.ingest.units(\n",
    "                    category=self.params['category'],\n",
    "                    resource=self.params['resource'],\n",
    "                    input=prompt_tokens,\n",
    "                    output=completion_tokens,\n",
    "                    budget_ids=self.params['budget_ids'], \n",
    "                    request_tags=self.params['request_tags']\n",
    "                    )\n",
    "                print(f'ingest result: {result.model_dump_json(indent=4)}')\n",
    "            except Exception as e:\n",
    "                print(f\"{self.name}: error sending usage info\", e)"
   ]
  },
  {
   "cell_type": "markdown",
   "metadata": {},
   "source": [
    "Configure the parameters for the call to OpenAI and ingesting the token counts into Payi"
   ]
  },
  {
   "cell_type": "code",
   "execution_count": null,
   "metadata": {},
   "outputs": [],
   "source": [
    "# Configuration parameters for the Pay-i API\n",
    "params = {\n",
    "    'category': 'system.openai',\n",
    "    'resource': 'gpt-3.5-turbo',\n",
    "    'budget_ids': [budget_id],  \n",
    "    'request_tags': ['x-ingest', 'y-ingest']\n",
    "}"
   ]
  },
  {
   "cell_type": "markdown",
   "metadata": {},
   "source": [
    "Make an OpenAI request and register the callback handler"
   ]
  },
  {
   "cell_type": "code",
   "execution_count": null,
   "metadata": {},
   "outputs": [],
   "source": [
    "from langchain_openai import ChatOpenAI\n",
    "\n",
    "prompt = ChatPromptTemplate.from_messages([\"say this only: hi\"])\n",
    "\n",
    "# Define the handler\n",
    "handler = PayiHandler(client=payi_client, params=params)\n",
    "\n",
    "# Define the LLM and register the handler \n",
    "model = ChatOpenAI( \n",
    "    model=params['resource'],\n",
    "    api_key=openai_key,\n",
    "    callbacks=[handler]\n",
    "    )\n",
    "\n",
    "# Define the sequence\n",
    "chain = prompt | model\n",
    "\n",
    "# Run the sequence\n",
    "response = chain.invoke({})\n",
    "\n",
    "print(response.to_json())"
   ]
  }
 ],
 "metadata": {
  "kernelspec": {
   "display_name": "venv",
   "language": "python",
   "name": "python3"
  },
  "language_info": {
   "codemirror_mode": {
    "name": "ipython",
    "version": 3
   },
   "file_extension": ".py",
   "mimetype": "text/x-python",
   "name": "python",
   "nbconvert_exporter": "python",
   "pygments_lexer": "ipython3",
   "version": "3.12.5"
  }
 },
 "nbformat": 4,
 "nbformat_minor": 2
}
