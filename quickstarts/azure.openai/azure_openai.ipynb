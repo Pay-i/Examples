{
 "cells": [
  {
   "cell_type": "code",
   "execution_count": null,
   "metadata": {},
   "outputs": [],
   "source": [
    "%pip install -r requirements.txt"
   ]
  },
  {
   "cell_type": "markdown",
   "metadata": {},
   "source": [
    "Basic Azure OpenAI Integration"
   ]
  },
  {
   "cell_type": "code",
   "execution_count": 3,
   "metadata": {},
   "outputs": [
    {
     "name": "stdout",
     "output_type": "stream",
     "text": [
      "This is a test.\n",
      "{\n",
      "    \"cost\": {\n",
      "        \"currency\": \"usd\",\n",
      "        \"input\": {\n",
      "            \"base\": \"0.00007\"\n",
      "        },\n",
      "        \"output\": {\n",
      "            \"base\": \"0.000075\"\n",
      "        },\n",
      "        \"total\": {\n",
      "            \"base\": \"0.000145\"\n",
      "        }\n",
      "    },\n",
      "    \"request_id\": \"40006d65-0000-e000-b63f-84710c7967bb\"\n",
      "}\n"
     ]
    }
   ],
   "source": [
    "from openai import AzureOpenAI\n",
    "import json\n",
    "\n",
    "#Replace with your Pay-i API Key\n",
    "payi_api_key=\"YOUR_PAYI_API_KEY\"\n",
    "\n",
    "#Replace with your Azure OpenAI Model Name, e.g. \"gpt-4o-2024-05-13\"\n",
    "#Note that the full model name is required by Azure OpenAI\n",
    "aoai_model = \"YOUR_AZURE_OPENAI_MODEL\"\n",
    "\n",
    "#Replace with your Azure OpenAI Deployment Name, e.g. \"test-4o\"\n",
    "aoai_deployment = \"YOUR_AZURE_OPENAI_DEPLOYMENT\"\n",
    "\n",
    "#Replace with your deployed Azure OpenAI endpoint URI\n",
    "aoai_instance_uri = \"YOUR_AZURE_OPENAI_ENDPOINT\"\n",
    "\n",
    "aoai_key = \"YOUR_AZURE_OPENAI_KEY\"\n",
    "\n",
    "aoai_key = \"51a2f21381af4eff8aa9da08d1d51257\"\n",
    "aoai_api_version = \"2024-02-15-preview\"\n",
    "\n",
    "#Replace with your Pay-i API Key\n",
    "payi_api_key=\"bdfabb29ccf240a289586f47dc09b208\"\n",
    "\n",
    "#Replace with your Azure OpenAI Model Name, e.g. \"gpt-4o-2024-05-13\"\n",
    "#Note that the full model name is required by Azure OpenAI\n",
    "aoai_model = \"gpt-4o-2024-05-13\"\n",
    "\n",
    "#Replace with your Azure OpenAI Deployment Name, e.g. \"test-4o\"\n",
    "aoai_deployment = \"testy-4o\"\n",
    "\n",
    "#Replace with your deployed Azure OpenAI endpoint URI\n",
    "aoai_instance_uri = \"https://openai-payi-qa-eastus.openai.azure.com\"\n",
    "\n",
    "#Replace with your Azure OpenAI Key\n",
    "aoai_key = \"51a2f21381af4eff8aa9da08d1d51257\"\n",
    "aoai_api_version = \"2024-02-15-preview\"\n",
    "\n",
    "payi_headers = {\n",
    "    \"xProxy-Forward-api-key\": aoai_key,\n",
    "    \"xProxy-Provider-BaseUri\": aoai_instance_uri,\n",
    "    \"xProxy-RouteAs-Resource\": aoai_model,\n",
    "}\n",
    "\n",
    "payi_base_url = \"https://api.pay-i.com\"\n",
    "payi_aoai_url = payi_base_url + \"/api/v1/proxy/azure.openai\"\n",
    "\n",
    "oai_client = AzureOpenAI(\n",
    "    api_key=payi_api_key,\n",
    "    api_version=aoai_api_version,\n",
    "    azure_endpoint=payi_aoai_url,\n",
    "    default_headers=payi_headers\n",
    ")\n",
    "\n",
    "response = oai_client.chat.completions.create(\n",
    "    model=aoai_deployment,\n",
    "    messages=[{\"role\": \"user\", \"content\": \"Say 'this is a test'\"}]\n",
    ")\n",
    "\n",
    "completion = response.choices[0].message.content\n",
    "print(completion)\n",
    "\n",
    "xproxy_result = response.xproxy_result\n",
    "print(json.dumps(xproxy_result, indent=4))"
   ]
  },
  {
   "cell_type": "markdown",
   "metadata": {},
   "source": [
    "Handle streaming calls. xproxy_result is returned as part of the last chunk."
   ]
  },
  {
   "cell_type": "code",
   "execution_count": 7,
   "metadata": {},
   "outputs": [
    {
     "name": "stdout",
     "output_type": "stream",
     "text": [
      "Once upon a time, in a bustling city, there was a tiny garden hidden between tall buildings. Every day, a little girl named Mia would visit the garden to water the flowers and talk to them. One morning, she found a beautiful golden key buried in the soil. Curious, she looked around and noticed an old, tiny door in the garden wall she had never seen before.\n",
      "\n",
      "With a bit of courage, Mia used the key to unlock the door. As it creaked open, she discovered a magical world on the other side, filled with talking animals and glowing trees. The creatures welcomed her warmly, and Mia spent many joyful afternoons exploring this enchanting place. She kept the key with her always, knowing this secret world would be her special refuge whenever she needed a bit of magic in her life.\n",
      "\n",
      "And so, the hidden garden and its magic door remained a cherished secret, forever giving Mia a place where her imagination could soar.\n",
      "{\n",
      "    \"cost\": {\n",
      "        \"currency\": \"usd\",\n",
      "        \"input\": {\n",
      "            \"base\": \"0.000065\"\n",
      "        },\n",
      "        \"output\": {\n",
      "            \"base\": \"0.002805\"\n",
      "        },\n",
      "        \"total\": {\n",
      "            \"base\": \"0.00287\"\n",
      "        }\n",
      "    },\n",
      "    \"request_id\": \"40006d6b-0000-e000-b63f-84710c7967bb\"\n",
      "}\n"
     ]
    }
   ],
   "source": [
    "stream = oai_client.chat.completions.create(\n",
    "    model=aoai_deployment,\n",
    "    messages=[{\"role\": \"user\", \"content\": \"tell me a very short story\"}],\n",
    "    stream=True,\n",
    ")\n",
    "for chunk in stream:\n",
    "    if chunk.choices is not None and len(chunk.choices) > 0 and chunk.choices[0].delta.content is not None:\n",
    "        print(chunk.choices[0].delta.content, end=\"\")\n",
    "    if 'xproxy_result' in chunk.model_extra:\n",
    "        print()\n",
    "        print(json.dumps(chunk.model_extra['xproxy_result'], indent=4))"
   ]
  },
  {
   "cell_type": "markdown",
   "metadata": {},
   "source": [
    "Use the Pay-i SDK to send a request with a request tag"
   ]
  },
  {
   "cell_type": "code",
   "execution_count": 9,
   "metadata": {},
   "outputs": [
    {
     "name": "stdout",
     "output_type": "stream",
     "text": [
      "This is a request tag test.\n",
      "{\n",
      "    \"cost\": {\n",
      "        \"currency\": \"usd\",\n",
      "        \"input\": {\n",
      "            \"base\": \"0.00008\"\n",
      "        },\n",
      "        \"output\": {\n",
      "            \"base\": \"0.000105\"\n",
      "        },\n",
      "        \"total\": {\n",
      "            \"base\": \"0.000185\"\n",
      "        }\n",
      "    },\n",
      "    \"request_id\": \"40006d6e-0000-e000-b63f-84710c7967bb\",\n",
      "    \"request_tags\": [\n",
      "        \"x\",\n",
      "        \"y\"\n",
      "    ]\n",
      "}\n"
     ]
    }
   ],
   "source": [
    "from payi.lib.helpers import create_headers\n",
    "\n",
    "response = oai_client.chat.completions.create(\n",
    "    model=aoai_deployment,\n",
    "    messages=[{\"role\": \"user\", \"content\": \"Say 'this is a request tag test'\"}],\n",
    "    extra_headers=create_headers(request_tags=[\"x\", \"y\"])\n",
    ")\n",
    "\n",
    "completion = response.choices[0].message.content\n",
    "print(completion)\n",
    "\n",
    "xproxy_result = response.xproxy_result\n",
    "print(json.dumps(xproxy_result, indent=4))"
   ]
  },
  {
   "cell_type": "markdown",
   "metadata": {},
   "source": [
    "Create a budget and make a request with that budget"
   ]
  },
  {
   "cell_type": "code",
   "execution_count": 10,
   "metadata": {},
   "outputs": [
    {
     "name": "stdout",
     "output_type": "stream",
     "text": [
      "Budget Created\n",
      "Budget Name: Quickstart liberal allow budget\n",
      "Budget ID: dab67602-3d41-465d-c073-08dcc629bb4c\n",
      "This is a budget test.\n",
      "{\n",
      "    \"cost\": {\n",
      "        \"currency\": \"usd\",\n",
      "        \"input\": {\n",
      "            \"base\": \"0.000075\"\n",
      "        },\n",
      "        \"output\": {\n",
      "            \"base\": \"0.00009\"\n",
      "        },\n",
      "        \"total\": {\n",
      "            \"base\": \"0.000165\"\n",
      "        }\n",
      "    },\n",
      "    \"request_id\": \"40006d70-0000-e000-b63f-84710c7967bb\",\n",
      "    \"request_tags\": [\n",
      "        \"x\",\n",
      "        \"y\"\n",
      "    ],\n",
      "    \"budgets\": {\n",
      "        \"dab67602-3d41-465d-c073-08dcc629bb4c\": {\n",
      "            \"state\": \"ok\"\n",
      "        }\n",
      "    }\n",
      "}\n"
     ]
    }
   ],
   "source": [
    "from payi import Payi\n",
    "\n",
    "payi_client = Payi(\n",
    "    api_key=payi_api_key,\n",
    "    base_url=payi_base_url\n",
    ")\n",
    "\n",
    "#Create a budget\n",
    "budget_response = payi_client.budgets.create(\n",
    "    #As long as the budget configuration remains the same across creates, the same budget name can be used repeatedly\n",
    "    budget_name='Quickstart liberal allow budget', \n",
    "    max=12.50, #$12.50 USD\n",
    "    budget_type=\"Liberal\",\n",
    "    budget_response_type=\"Allow\",\n",
    "    budget_tags=[\"example_budget\"]\n",
    ")\n",
    "\n",
    "budget_name = budget_response.budget.budget_name\n",
    "budget_id = budget_response.budget.budget_id\n",
    "\n",
    "print(\"Budget Created\")\n",
    "print(f\"Budget Name: {budget_name}\")\n",
    "print(f\"Budget ID: {budget_id}\")\n",
    "\n",
    "#Make a request using the new budget and request tags\n",
    "response = oai_client.chat.completions.create(\n",
    "    model=aoai_deployment, \n",
    "    messages=[{\"role\": \"user\", \"content\": \"Say 'this is a budget test'\"}],\n",
    "    extra_headers=create_headers(\n",
    "        request_tags=[\"x\", \"y\"], \n",
    "        budget_ids=[budget_id]\n",
    "    )\n",
    ")\n",
    "\n",
    "completion = response.choices[0].message.content\n",
    "print(completion)\n",
    "\n",
    "xproxy_result = response.xproxy_result\n",
    "print(json.dumps(xproxy_result, indent=4))"
   ]
  },
  {
   "cell_type": "markdown",
   "metadata": {},
   "source": [
    "See budget status"
   ]
  },
  {
   "cell_type": "code",
   "execution_count": 11,
   "metadata": {},
   "outputs": [
    {
     "name": "stdout",
     "output_type": "stream",
     "text": [
      "Budget Name: Quickstart liberal allow budget\n",
      "Budget ID: dab67602-3d41-465d-c073-08dcc629bb4c\n",
      "Budget Creation Timestamp: 2024-08-26 23:49:31.786132+00:00\n",
      "Budget Tags: ['example_budget']\n",
      "Budget Input Base Cost: 0.00009\n",
      "Budget Output Base Cost: 0.000108\n",
      "Budget Total Base Cost: 0.000108\n"
     ]
    }
   ],
   "source": [
    "response = payi_client.budgets.retrieve(budget_id=budget_id)\n",
    "print(f\"Budget Name: {response.budget.budget_name}\")\n",
    "print(f\"Budget ID: {response.budget.budget_id}\")\n",
    "print(f\"Budget Creation Timestamp: {response.budget.budget_creation_timestamp}\")\n",
    "print(f\"Budget Tags: {response.budget.budget_tags}\")\n",
    "print(f\"Budget Input Base Cost: {response.budget.totals.cost.input.base}\")\n",
    "print(f\"Budget Output Base Cost: {response.budget.totals.cost.output.base}\")\n",
    "print(f\"Budget Total Base Cost: {response.budget.totals.cost.output.base}\")"
   ]
  },
  {
   "cell_type": "markdown",
   "metadata": {},
   "source": [
    "Make an ingest call with pre-computed token values"
   ]
  },
  {
   "cell_type": "code",
   "execution_count": 12,
   "metadata": {},
   "outputs": [
    {
     "name": "stdout",
     "output_type": "stream",
     "text": [
      "Ingest request ID: 40006d73-0000-e000-b63f-84710c7967bb\n",
      "Input Base Cost: 0.00025\n",
      "Output Base Cost: 0.0015\n",
      "Total Base Cost: 0.00175\n"
     ]
    }
   ],
   "source": [
    "response = payi_client.ingest.units(\n",
    "    category=\"system.openai\",\n",
    "    resource=\"gpt-4o\",\n",
    "    input=50,\n",
    "    output=100,\n",
    "    budget_ids= [budget_id],\n",
    "    request_tags = [\"a\", \"b\"]\n",
    ")\n",
    "\n",
    "print(f\"Ingest request ID: {response.request_id}\")\n",
    "print(f\"Input Base Cost: {response.xproxy_result.cost.input.base}\")\n",
    "print(f\"Output Base Cost: {response.xproxy_result.cost.output.base}\")\n",
    "print(f\"Total Base Cost: {response.xproxy_result.cost.total.base}\")"
   ]
  },
  {
   "cell_type": "markdown",
   "metadata": {},
   "source": [
    "Reset a budget back to zero tracked cost"
   ]
  },
  {
   "cell_type": "code",
   "execution_count": 13,
   "metadata": {},
   "outputs": [
    {
     "name": "stdout",
     "output_type": "stream",
     "text": [
      "Budget has been successfully reset.\n",
      "State prior to reset: \n",
      "Budget Name: Quickstart liberal allow budget\n",
      "Budget ID: dab67602-3d41-465d-c073-08dcc629bb4c\n",
      "Budget Tags: ['example_budget']\n",
      "Budget Reset Timestamp: 2024-08-27 04:22:02.062598+00:00\n",
      "Budget Input Base Cost: 0.00034\n",
      "Budget Output Base Cost: 0.001608\n",
      "Budget Total Base Cost: 0.001948\n",
      "\n",
      "State after reset:\n",
      "Budget Name: Quickstart liberal allow budget\n",
      "Budget ID: dab67602-3d41-465d-c073-08dcc629bb4c\n",
      "Budget Creation Timestamp: 2024-08-26 23:49:31.786132+00:00\n",
      "Budget Tags: ['example_budget']\n",
      "Budget Input Base Cost: CostData(input=CostDetails(base='0', overrun_base=0.0), output=CostDetails(base='0', overrun_base=0.0), total=CostDetails(base='0', overrun_base=0.0))\n",
      "Budget Output Base Cost: 0\n",
      "Budget Total Base Cost: 0\n"
     ]
    }
   ],
   "source": [
    "response = payi_client.budgets.reset(budget_id=budget_id)\n",
    "print(response.message)\n",
    "print(\"State prior to reset: \")\n",
    "print(f\"Budget Name: {response.budget_history.budget_name}\")\n",
    "print(f\"Budget ID: {response.budget_history.budget_id}\")\n",
    "print(f\"Budget Tags: {response.budget_history.budget_tags}\")\n",
    "print(f\"Budget Reset Timestamp: {response.budget_history.budget_reset_timestamp}\")\n",
    "print(f\"Budget Input Base Cost: {response.budget_history.totals.cost.input.base}\")\n",
    "print(f\"Budget Output Base Cost: {response.budget_history.totals.cost.output.base}\")\n",
    "print(f\"Budget Total Base Cost: {response.budget_history.totals.cost.total.base}\")\n",
    "\n",
    "print(\"\\nState after reset:\")\n",
    "response = payi_client.budgets.retrieve(budget_id=budget_id)\n",
    "print(f\"Budget Name: {response.budget.budget_name}\")\n",
    "print(f\"Budget ID: {response.budget.budget_id}\")\n",
    "print(f\"Budget Creation Timestamp: {response.budget.budget_creation_timestamp}\")\n",
    "print(f\"Budget Tags: {response.budget.budget_tags}\")\n",
    "print(f\"Budget Input Base Cost: {response.budget.totals.cost}\")\n",
    "print(f\"Budget Output Base Cost: {response.budget.totals.cost.output.base}\")\n",
    "print(f\"Budget Total Base Cost: {response.budget.totals.cost.total.base}\")"
   ]
  },
  {
   "cell_type": "markdown",
   "metadata": {},
   "source": [
    "Create a small, conservative budget that will prevent calls from happening that exceed the maximum, then capture the output."
   ]
  },
  {
   "cell_type": "code",
   "execution_count": 14,
   "metadata": {},
   "outputs": [
    {
     "name": "stdout",
     "output_type": "stream",
     "text": [
      "Budget Created\n",
      "Budget Name: Quickstart conservative block budget\n",
      "Budget ID: 659c27eb-fde6-4941-c074-08dcc629bb4c\n",
      "{\n",
      "    \"xproxy_result\": {\n",
      "        \"blocked_budget_ids\": [\n",
      "            \"659c27eb-fde6-4941-c074-08dcc629bb4c\"\n",
      "        ],\n",
      "        \"request_id\": \"40006d78-0000-e000-b63f-84710c7967bb\",\n",
      "        \"request_tags\": [\n",
      "            \"toy_story\"\n",
      "        ],\n",
      "        \"budgets\": {\n",
      "            \"659c27eb-fde6-4941-c074-08dcc629bb4c\": {\n",
      "                \"state\": \"blocked\"\n",
      "            }\n",
      "        }\n",
      "    },\n",
      "    \"message\": \"Insufficient budget for the requested operation\",\n",
      "    \"statusCode\": 400,\n",
      "    \"xproxy_error\": {\n",
      "        \"code\": \"not_enough_budget\",\n",
      "        \"message\": \"Insufficient budget for the requested operation\"\n",
      "    }\n",
      "}\n"
     ]
    }
   ],
   "source": [
    "budget_response = payi_client.budgets.create(\n",
    "    #As long as the budget configuration remains the same across creates, the same budget name can be used repeatedly\n",
    "    budget_name='Quickstart conservative block budget',\n",
    "    max=0.01, \n",
    "    budget_type=\"conservative\",\n",
    "    budget_response_type=\"block\",\n",
    "    budget_tags=[\"budget_block_example\"]\n",
    ")\n",
    "cons_budget = budget_response.budget.budget_id\n",
    "\n",
    "print(\"Budget Created\")\n",
    "print(f\"Budget Name: {budget_response.budget.budget_name}\")\n",
    "print(f\"Budget ID: {budget_response.budget.budget_id}\")\n",
    "\n",
    "try:\n",
    "    response = oai_client.chat.completions.create(\n",
    "        model=aoai_deployment,\n",
    "        messages=[{\"role\": \"user\", \"content\": \"tell me a short story about a toy\"}],\n",
    "        extra_headers=create_headers(\n",
    "            request_tags=[\"toy_story\"], \n",
    "            budget_ids=[cons_budget]\n",
    "        )\n",
    "    )\n",
    "except Exception as e:\n",
    "    print(json.dumps(e.body, indent=4))"
   ]
  },
  {
   "cell_type": "markdown",
   "metadata": {},
   "source": [
    "Create an experience type and instance, then send a request with the experience instance"
   ]
  },
  {
   "cell_type": "code",
   "execution_count": 15,
   "metadata": {},
   "outputs": [
    {
     "name": "stdout",
     "output_type": "stream",
     "text": [
      "This is a budget test.\n",
      "{\n",
      "    \"cost\": {\n",
      "        \"currency\": \"usd\",\n",
      "        \"input\": {\n",
      "            \"base\": \"0.000075\"\n",
      "        },\n",
      "        \"output\": {\n",
      "            \"base\": \"0.00009\"\n",
      "        },\n",
      "        \"total\": {\n",
      "            \"base\": \"0.000165\"\n",
      "        }\n",
      "    },\n",
      "    \"request_id\": \"40006f1b-0000-f700-b63f-84710c7967bb\",\n",
      "    \"request_tags\": [\n",
      "        \"x-experience\",\n",
      "        \"y-experience\"\n",
      "    ],\n",
      "    \"budgets\": {\n",
      "        \"dab67602-3d41-465d-c073-08dcc629bb4c\": {\n",
      "            \"state\": \"ok\"\n",
      "        }\n",
      "    }\n",
      "}\n"
     ]
    }
   ],
   "source": [
    "# Create an experience type\n",
    "exp_type_response = payi_client.experiences.types.create(\n",
    "    name=\"A quickstart Experience\",\n",
    "    description=\"An example of an experience\"\n",
    ")\n",
    "\n",
    "# Create an experience of the type\n",
    "exp_response = payi_client.experiences.create(\n",
    "    experience_type_id=exp_type_response.experience_type_id,\n",
    ")\n",
    "\n",
    "#Make a request using the new budget and request tags\n",
    "response = oai_client.chat.completions.create(\n",
    "    model=aoai_deployment, \n",
    "    messages=[{\"role\": \"user\", \"content\": \"Say 'this is a budget test'\"}],\n",
    "    extra_headers=create_headers(\n",
    "        request_tags=[\"x-experience\", \"y-experience\"], \n",
    "        budget_ids=[budget_id],\n",
    "        experience_id=exp_response.experience_id\n",
    "    )\n",
    ")\n",
    "\n",
    "completion = response.choices[0].message.content\n",
    "print(completion)\n",
    "\n",
    "xproxy_result = response.xproxy_result\n",
    "print(json.dumps(xproxy_result, indent=4))"
   ]
  },
  {
   "cell_type": "markdown",
   "metadata": {},
   "source": [
    "Send a request with a budget and user ID"
   ]
  },
  {
   "cell_type": "code",
   "execution_count": 16,
   "metadata": {},
   "outputs": [
    {
     "name": "stdout",
     "output_type": "stream",
     "text": [
      "This is a budget test.\n",
      "{\n",
      "    \"cost\": {\n",
      "        \"currency\": \"usd\",\n",
      "        \"input\": {\n",
      "            \"base\": \"0.000075\"\n",
      "        },\n",
      "        \"output\": {\n",
      "            \"base\": \"0.00009\"\n",
      "        },\n",
      "        \"total\": {\n",
      "            \"base\": \"0.000165\"\n",
      "        }\n",
      "    },\n",
      "    \"request_id\": \"4000787c-0000-ec00-b63f-84710c7967bb\",\n",
      "    \"budgets\": {\n",
      "        \"dab67602-3d41-465d-c073-08dcc629bb4c\": {\n",
      "            \"state\": \"ok\"\n",
      "        }\n",
      "    }\n",
      "}\n"
     ]
    }
   ],
   "source": [
    "#Make a request using the budget and user id\n",
    "response = oai_client.chat.completions.create(\n",
    "    model=aoai_deployment, \n",
    "    messages=[{\"role\": \"user\", \"content\": \"Say 'this is a budget test'\"}],\n",
    "    extra_headers=create_headers(\n",
    "        budget_ids=[budget_id],\n",
    "        # user id can be any string value\n",
    "        user_id=\"example_user_id\"\n",
    "    )\n",
    ")\n",
    "\n",
    "completion = response.choices[0].message.content\n",
    "print(completion)\n",
    "\n",
    "xproxy_result = response.xproxy_result\n",
    "print(json.dumps(xproxy_result, indent=4))"
   ]
  },
  {
   "cell_type": "markdown",
   "metadata": {},
   "source": [
    "List and then delete all budgets"
   ]
  },
  {
   "cell_type": "code",
   "execution_count": null,
   "metadata": {},
   "outputs": [],
   "source": [
    "response = payi_client.budgets.list()\n",
    "for budget in response.items:\n",
    "    print(\"Deleting budget with id:\" + budget.budget_id)\n",
    "    payi_client.budgets.delete(budget.budget_id)"
   ]
  }
 ],
 "metadata": {
  "kernelspec": {
   "display_name": "Python 3",
   "language": "python",
   "name": "python3"
  },
  "language_info": {
   "codemirror_mode": {
    "name": "ipython",
    "version": 3
   },
   "file_extension": ".py",
   "mimetype": "text/x-python",
   "name": "python",
   "nbconvert_exporter": "python",
   "pygments_lexer": "ipython3",
   "version": "3.12.4"
  }
 },
 "nbformat": 4,
 "nbformat_minor": 2
}
