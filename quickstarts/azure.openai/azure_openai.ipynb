{
 "cells": [
  {
   "cell_type": "code",
   "execution_count": 1,
   "metadata": {},
   "outputs": [
    {
     "name": "stdout",
     "output_type": "stream",
     "text": [
      "Requirement already satisfied: openai in f:\\repos\\examples\\quickstarts\\azure.openai\\.venv\\lib\\site-packages (from -r requirements.txt (line 1)) (1.61.1)\n",
      "Requirement already satisfied: payi in f:\\repos\\examples\\quickstarts\\azure.openai\\.venv\\lib\\site-packages (from -r requirements.txt (line 2)) (0.1.0a49)\n",
      "Requirement already satisfied: anyio<5,>=3.5.0 in f:\\repos\\examples\\quickstarts\\azure.openai\\.venv\\lib\\site-packages (from openai->-r requirements.txt (line 1)) (4.8.0)\n",
      "Requirement already satisfied: distro<2,>=1.7.0 in f:\\repos\\examples\\quickstarts\\azure.openai\\.venv\\lib\\site-packages (from openai->-r requirements.txt (line 1)) (1.9.0)\n",
      "Requirement already satisfied: httpx<1,>=0.23.0 in f:\\repos\\examples\\quickstarts\\azure.openai\\.venv\\lib\\site-packages (from openai->-r requirements.txt (line 1)) (0.28.1)\n",
      "Requirement already satisfied: jiter<1,>=0.4.0 in f:\\repos\\examples\\quickstarts\\azure.openai\\.venv\\lib\\site-packages (from openai->-r requirements.txt (line 1)) (0.8.2)\n",
      "Requirement already satisfied: pydantic<3,>=1.9.0 in f:\\repos\\examples\\quickstarts\\azure.openai\\.venv\\lib\\site-packages (from openai->-r requirements.txt (line 1)) (2.10.6)\n",
      "Requirement already satisfied: sniffio in f:\\repos\\examples\\quickstarts\\azure.openai\\.venv\\lib\\site-packages (from openai->-r requirements.txt (line 1)) (1.3.1)\n",
      "Requirement already satisfied: tqdm>4 in f:\\repos\\examples\\quickstarts\\azure.openai\\.venv\\lib\\site-packages (from openai->-r requirements.txt (line 1)) (4.67.1)\n",
      "Requirement already satisfied: typing-extensions<5,>=4.11 in f:\\repos\\examples\\quickstarts\\azure.openai\\.venv\\lib\\site-packages (from openai->-r requirements.txt (line 1)) (4.12.2)\n",
      "Requirement already satisfied: nest-asyncio>=1.6.0 in f:\\repos\\examples\\quickstarts\\azure.openai\\.venv\\lib\\site-packages (from payi->-r requirements.txt (line 2)) (1.6.0)\n",
      "Requirement already satisfied: tiktoken>=0.8.0 in f:\\repos\\examples\\quickstarts\\azure.openai\\.venv\\lib\\site-packages (from payi->-r requirements.txt (line 2)) (0.8.0)\n",
      "Requirement already satisfied: wrapt>=1.17.2 in f:\\repos\\examples\\quickstarts\\azure.openai\\.venv\\lib\\site-packages (from payi->-r requirements.txt (line 2)) (1.17.2)\n",
      "Requirement already satisfied: idna>=2.8 in f:\\repos\\examples\\quickstarts\\azure.openai\\.venv\\lib\\site-packages (from anyio<5,>=3.5.0->openai->-r requirements.txt (line 1)) (3.10)\n",
      "Requirement already satisfied: certifi in f:\\repos\\examples\\quickstarts\\azure.openai\\.venv\\lib\\site-packages (from httpx<1,>=0.23.0->openai->-r requirements.txt (line 1)) (2025.1.31)\n",
      "Requirement already satisfied: httpcore==1.* in f:\\repos\\examples\\quickstarts\\azure.openai\\.venv\\lib\\site-packages (from httpx<1,>=0.23.0->openai->-r requirements.txt (line 1)) (1.0.7)\n",
      "Requirement already satisfied: h11<0.15,>=0.13 in f:\\repos\\examples\\quickstarts\\azure.openai\\.venv\\lib\\site-packages (from httpcore==1.*->httpx<1,>=0.23.0->openai->-r requirements.txt (line 1)) (0.14.0)\n",
      "Requirement already satisfied: annotated-types>=0.6.0 in f:\\repos\\examples\\quickstarts\\azure.openai\\.venv\\lib\\site-packages (from pydantic<3,>=1.9.0->openai->-r requirements.txt (line 1)) (0.7.0)\n",
      "Requirement already satisfied: pydantic-core==2.27.2 in f:\\repos\\examples\\quickstarts\\azure.openai\\.venv\\lib\\site-packages (from pydantic<3,>=1.9.0->openai->-r requirements.txt (line 1)) (2.27.2)\n",
      "Requirement already satisfied: regex>=2022.1.18 in f:\\repos\\examples\\quickstarts\\azure.openai\\.venv\\lib\\site-packages (from tiktoken>=0.8.0->payi->-r requirements.txt (line 2)) (2024.11.6)\n",
      "Requirement already satisfied: requests>=2.26.0 in f:\\repos\\examples\\quickstarts\\azure.openai\\.venv\\lib\\site-packages (from tiktoken>=0.8.0->payi->-r requirements.txt (line 2)) (2.32.3)\n",
      "Requirement already satisfied: colorama in f:\\repos\\examples\\quickstarts\\azure.openai\\.venv\\lib\\site-packages (from tqdm>4->openai->-r requirements.txt (line 1)) (0.4.6)\n",
      "Requirement already satisfied: charset-normalizer<4,>=2 in f:\\repos\\examples\\quickstarts\\azure.openai\\.venv\\lib\\site-packages (from requests>=2.26.0->tiktoken>=0.8.0->payi->-r requirements.txt (line 2)) (3.4.1)\n",
      "Requirement already satisfied: urllib3<3,>=1.21.1 in f:\\repos\\examples\\quickstarts\\azure.openai\\.venv\\lib\\site-packages (from requests>=2.26.0->tiktoken>=0.8.0->payi->-r requirements.txt (line 2)) (2.3.0)\n",
      "Note: you may need to restart the kernel to use updated packages.\n"
     ]
    }
   ],
   "source": [
    "%pip install --upgrade -r requirements.txt"
   ]
  },
  {
   "cell_type": "markdown",
   "metadata": {},
   "source": [
    "Basic Azure OpenAI Integration"
   ]
  },
  {
   "cell_type": "code",
   "execution_count": null,
   "metadata": {},
   "outputs": [
    {
     "ename": "NotFoundError",
     "evalue": "Error code: 404 - {'message': \"Category 'system.azureopenai' and resource 'YOUR_AZURE_OPENAI_MODEL' not found\", 'statusCode': 404, 'xproxy_error': {'code': 'category_resource_not_found', 'message': \"Category 'system.azureopenai' and resource 'YOUR_AZURE_OPENAI_MODEL' not found\"}}",
     "output_type": "error",
     "traceback": [
      "\u001b[1;31m---------------------------------------------------------------------------\u001b[0m",
      "\u001b[1;31mNotFoundError\u001b[0m                             Traceback (most recent call last)",
      "Cell \u001b[1;32mIn[3], line 37\u001b[0m\n\u001b[0;32m     24\u001b[0m payi_headers \u001b[38;5;241m=\u001b[39m {\n\u001b[0;32m     25\u001b[0m     \u001b[38;5;124m\"\u001b[39m\u001b[38;5;124mxProxy-api-key\u001b[39m\u001b[38;5;124m\"\u001b[39m: payi_api_key,\n\u001b[0;32m     26\u001b[0m     \u001b[38;5;124m\"\u001b[39m\u001b[38;5;124mxProxy-Provider-BaseUri\u001b[39m\u001b[38;5;124m\"\u001b[39m: aoai_instance_uri,\n\u001b[0;32m     27\u001b[0m     \u001b[38;5;124m\"\u001b[39m\u001b[38;5;124mxProxy-RouteAs-Resource\u001b[39m\u001b[38;5;124m\"\u001b[39m: aoai_model,\n\u001b[0;32m     28\u001b[0m }\n\u001b[0;32m     30\u001b[0m oai_client \u001b[38;5;241m=\u001b[39m AzureOpenAI(\n\u001b[0;32m     31\u001b[0m     api_key\u001b[38;5;241m=\u001b[39maoai_key,\n\u001b[0;32m     32\u001b[0m     api_version\u001b[38;5;241m=\u001b[39maoai_api_version,\n\u001b[0;32m     33\u001b[0m     azure_endpoint\u001b[38;5;241m=\u001b[39mpayi_azure_openai_url(),\n\u001b[0;32m     34\u001b[0m     default_headers\u001b[38;5;241m=\u001b[39mpayi_headers\n\u001b[0;32m     35\u001b[0m )\n\u001b[1;32m---> 37\u001b[0m response \u001b[38;5;241m=\u001b[39m \u001b[43moai_client\u001b[49m\u001b[38;5;241;43m.\u001b[39;49m\u001b[43mchat\u001b[49m\u001b[38;5;241;43m.\u001b[39;49m\u001b[43mcompletions\u001b[49m\u001b[38;5;241;43m.\u001b[39;49m\u001b[43mcreate\u001b[49m\u001b[43m(\u001b[49m\n\u001b[0;32m     38\u001b[0m \u001b[43m    \u001b[49m\u001b[43mmodel\u001b[49m\u001b[38;5;241;43m=\u001b[39;49m\u001b[43maoai_deployment\u001b[49m\u001b[43m,\u001b[49m\n\u001b[0;32m     39\u001b[0m \u001b[43m    \u001b[49m\u001b[43mmessages\u001b[49m\u001b[38;5;241;43m=\u001b[39;49m\u001b[43m[\u001b[49m\u001b[43m{\u001b[49m\u001b[38;5;124;43m\"\u001b[39;49m\u001b[38;5;124;43mrole\u001b[39;49m\u001b[38;5;124;43m\"\u001b[39;49m\u001b[43m:\u001b[49m\u001b[43m \u001b[49m\u001b[38;5;124;43m\"\u001b[39;49m\u001b[38;5;124;43muser\u001b[39;49m\u001b[38;5;124;43m\"\u001b[39;49m\u001b[43m,\u001b[49m\u001b[43m \u001b[49m\u001b[38;5;124;43m\"\u001b[39;49m\u001b[38;5;124;43mcontent\u001b[39;49m\u001b[38;5;124;43m\"\u001b[39;49m\u001b[43m:\u001b[49m\u001b[43m \u001b[49m\u001b[38;5;124;43m\"\u001b[39;49m\u001b[38;5;124;43mSay \u001b[39;49m\u001b[38;5;124;43m'\u001b[39;49m\u001b[38;5;124;43mthis is a test\u001b[39;49m\u001b[38;5;124;43m'\u001b[39;49m\u001b[38;5;124;43m\"\u001b[39;49m\u001b[43m}\u001b[49m\u001b[43m]\u001b[49m\n\u001b[0;32m     40\u001b[0m \u001b[43m)\u001b[49m\n\u001b[0;32m     42\u001b[0m completion \u001b[38;5;241m=\u001b[39m response\u001b[38;5;241m.\u001b[39mchoices[\u001b[38;5;241m0\u001b[39m]\u001b[38;5;241m.\u001b[39mmessage\u001b[38;5;241m.\u001b[39mcontent\n\u001b[0;32m     43\u001b[0m \u001b[38;5;28mprint\u001b[39m(completion)\n",
      "File \u001b[1;32mf:\\repos\\Examples\\quickstarts\\azure.openai\\.venv\\Lib\\site-packages\\openai\\_utils\\_utils.py:279\u001b[0m, in \u001b[0;36mrequired_args.<locals>.inner.<locals>.wrapper\u001b[1;34m(*args, **kwargs)\u001b[0m\n\u001b[0;32m    277\u001b[0m             msg \u001b[38;5;241m=\u001b[39m \u001b[38;5;124mf\u001b[39m\u001b[38;5;124m\"\u001b[39m\u001b[38;5;124mMissing required argument: \u001b[39m\u001b[38;5;132;01m{\u001b[39;00mquote(missing[\u001b[38;5;241m0\u001b[39m])\u001b[38;5;132;01m}\u001b[39;00m\u001b[38;5;124m\"\u001b[39m\n\u001b[0;32m    278\u001b[0m     \u001b[38;5;28;01mraise\u001b[39;00m \u001b[38;5;167;01mTypeError\u001b[39;00m(msg)\n\u001b[1;32m--> 279\u001b[0m \u001b[38;5;28;01mreturn\u001b[39;00m \u001b[43mfunc\u001b[49m\u001b[43m(\u001b[49m\u001b[38;5;241;43m*\u001b[39;49m\u001b[43margs\u001b[49m\u001b[43m,\u001b[49m\u001b[43m \u001b[49m\u001b[38;5;241;43m*\u001b[39;49m\u001b[38;5;241;43m*\u001b[39;49m\u001b[43mkwargs\u001b[49m\u001b[43m)\u001b[49m\n",
      "File \u001b[1;32mf:\\repos\\Examples\\quickstarts\\azure.openai\\.venv\\Lib\\site-packages\\openai\\resources\\chat\\completions.py:863\u001b[0m, in \u001b[0;36mCompletions.create\u001b[1;34m(self, messages, model, audio, frequency_penalty, function_call, functions, logit_bias, logprobs, max_completion_tokens, max_tokens, metadata, modalities, n, parallel_tool_calls, prediction, presence_penalty, reasoning_effort, response_format, seed, service_tier, stop, store, stream, stream_options, temperature, tool_choice, tools, top_logprobs, top_p, user, extra_headers, extra_query, extra_body, timeout)\u001b[0m\n\u001b[0;32m    821\u001b[0m \u001b[38;5;129m@required_args\u001b[39m([\u001b[38;5;124m\"\u001b[39m\u001b[38;5;124mmessages\u001b[39m\u001b[38;5;124m\"\u001b[39m, \u001b[38;5;124m\"\u001b[39m\u001b[38;5;124mmodel\u001b[39m\u001b[38;5;124m\"\u001b[39m], [\u001b[38;5;124m\"\u001b[39m\u001b[38;5;124mmessages\u001b[39m\u001b[38;5;124m\"\u001b[39m, \u001b[38;5;124m\"\u001b[39m\u001b[38;5;124mmodel\u001b[39m\u001b[38;5;124m\"\u001b[39m, \u001b[38;5;124m\"\u001b[39m\u001b[38;5;124mstream\u001b[39m\u001b[38;5;124m\"\u001b[39m])\n\u001b[0;32m    822\u001b[0m \u001b[38;5;28;01mdef\u001b[39;00m\u001b[38;5;250m \u001b[39m\u001b[38;5;21mcreate\u001b[39m(\n\u001b[0;32m    823\u001b[0m     \u001b[38;5;28mself\u001b[39m,\n\u001b[1;32m   (...)\u001b[0m\n\u001b[0;32m    860\u001b[0m     timeout: \u001b[38;5;28mfloat\u001b[39m \u001b[38;5;241m|\u001b[39m httpx\u001b[38;5;241m.\u001b[39mTimeout \u001b[38;5;241m|\u001b[39m \u001b[38;5;28;01mNone\u001b[39;00m \u001b[38;5;241m|\u001b[39m NotGiven \u001b[38;5;241m=\u001b[39m NOT_GIVEN,\n\u001b[0;32m    861\u001b[0m ) \u001b[38;5;241m-\u001b[39m\u001b[38;5;241m>\u001b[39m ChatCompletion \u001b[38;5;241m|\u001b[39m Stream[ChatCompletionChunk]:\n\u001b[0;32m    862\u001b[0m     validate_response_format(response_format)\n\u001b[1;32m--> 863\u001b[0m     \u001b[38;5;28;01mreturn\u001b[39;00m \u001b[38;5;28;43mself\u001b[39;49m\u001b[38;5;241;43m.\u001b[39;49m\u001b[43m_post\u001b[49m\u001b[43m(\u001b[49m\n\u001b[0;32m    864\u001b[0m \u001b[43m        \u001b[49m\u001b[38;5;124;43m\"\u001b[39;49m\u001b[38;5;124;43m/chat/completions\u001b[39;49m\u001b[38;5;124;43m\"\u001b[39;49m\u001b[43m,\u001b[49m\n\u001b[0;32m    865\u001b[0m \u001b[43m        \u001b[49m\u001b[43mbody\u001b[49m\u001b[38;5;241;43m=\u001b[39;49m\u001b[43mmaybe_transform\u001b[49m\u001b[43m(\u001b[49m\n\u001b[0;32m    866\u001b[0m \u001b[43m            \u001b[49m\u001b[43m{\u001b[49m\n\u001b[0;32m    867\u001b[0m \u001b[43m                \u001b[49m\u001b[38;5;124;43m\"\u001b[39;49m\u001b[38;5;124;43mmessages\u001b[39;49m\u001b[38;5;124;43m\"\u001b[39;49m\u001b[43m:\u001b[49m\u001b[43m \u001b[49m\u001b[43mmessages\u001b[49m\u001b[43m,\u001b[49m\n\u001b[0;32m    868\u001b[0m \u001b[43m                \u001b[49m\u001b[38;5;124;43m\"\u001b[39;49m\u001b[38;5;124;43mmodel\u001b[39;49m\u001b[38;5;124;43m\"\u001b[39;49m\u001b[43m:\u001b[49m\u001b[43m \u001b[49m\u001b[43mmodel\u001b[49m\u001b[43m,\u001b[49m\n\u001b[0;32m    869\u001b[0m \u001b[43m                \u001b[49m\u001b[38;5;124;43m\"\u001b[39;49m\u001b[38;5;124;43maudio\u001b[39;49m\u001b[38;5;124;43m\"\u001b[39;49m\u001b[43m:\u001b[49m\u001b[43m \u001b[49m\u001b[43maudio\u001b[49m\u001b[43m,\u001b[49m\n\u001b[0;32m    870\u001b[0m \u001b[43m                \u001b[49m\u001b[38;5;124;43m\"\u001b[39;49m\u001b[38;5;124;43mfrequency_penalty\u001b[39;49m\u001b[38;5;124;43m\"\u001b[39;49m\u001b[43m:\u001b[49m\u001b[43m \u001b[49m\u001b[43mfrequency_penalty\u001b[49m\u001b[43m,\u001b[49m\n\u001b[0;32m    871\u001b[0m \u001b[43m                \u001b[49m\u001b[38;5;124;43m\"\u001b[39;49m\u001b[38;5;124;43mfunction_call\u001b[39;49m\u001b[38;5;124;43m\"\u001b[39;49m\u001b[43m:\u001b[49m\u001b[43m \u001b[49m\u001b[43mfunction_call\u001b[49m\u001b[43m,\u001b[49m\n\u001b[0;32m    872\u001b[0m \u001b[43m                \u001b[49m\u001b[38;5;124;43m\"\u001b[39;49m\u001b[38;5;124;43mfunctions\u001b[39;49m\u001b[38;5;124;43m\"\u001b[39;49m\u001b[43m:\u001b[49m\u001b[43m \u001b[49m\u001b[43mfunctions\u001b[49m\u001b[43m,\u001b[49m\n\u001b[0;32m    873\u001b[0m \u001b[43m                \u001b[49m\u001b[38;5;124;43m\"\u001b[39;49m\u001b[38;5;124;43mlogit_bias\u001b[39;49m\u001b[38;5;124;43m\"\u001b[39;49m\u001b[43m:\u001b[49m\u001b[43m \u001b[49m\u001b[43mlogit_bias\u001b[49m\u001b[43m,\u001b[49m\n\u001b[0;32m    874\u001b[0m \u001b[43m                \u001b[49m\u001b[38;5;124;43m\"\u001b[39;49m\u001b[38;5;124;43mlogprobs\u001b[39;49m\u001b[38;5;124;43m\"\u001b[39;49m\u001b[43m:\u001b[49m\u001b[43m \u001b[49m\u001b[43mlogprobs\u001b[49m\u001b[43m,\u001b[49m\n\u001b[0;32m    875\u001b[0m \u001b[43m                \u001b[49m\u001b[38;5;124;43m\"\u001b[39;49m\u001b[38;5;124;43mmax_completion_tokens\u001b[39;49m\u001b[38;5;124;43m\"\u001b[39;49m\u001b[43m:\u001b[49m\u001b[43m \u001b[49m\u001b[43mmax_completion_tokens\u001b[49m\u001b[43m,\u001b[49m\n\u001b[0;32m    876\u001b[0m \u001b[43m                \u001b[49m\u001b[38;5;124;43m\"\u001b[39;49m\u001b[38;5;124;43mmax_tokens\u001b[39;49m\u001b[38;5;124;43m\"\u001b[39;49m\u001b[43m:\u001b[49m\u001b[43m \u001b[49m\u001b[43mmax_tokens\u001b[49m\u001b[43m,\u001b[49m\n\u001b[0;32m    877\u001b[0m \u001b[43m                \u001b[49m\u001b[38;5;124;43m\"\u001b[39;49m\u001b[38;5;124;43mmetadata\u001b[39;49m\u001b[38;5;124;43m\"\u001b[39;49m\u001b[43m:\u001b[49m\u001b[43m \u001b[49m\u001b[43mmetadata\u001b[49m\u001b[43m,\u001b[49m\n\u001b[0;32m    878\u001b[0m \u001b[43m                \u001b[49m\u001b[38;5;124;43m\"\u001b[39;49m\u001b[38;5;124;43mmodalities\u001b[39;49m\u001b[38;5;124;43m\"\u001b[39;49m\u001b[43m:\u001b[49m\u001b[43m \u001b[49m\u001b[43mmodalities\u001b[49m\u001b[43m,\u001b[49m\n\u001b[0;32m    879\u001b[0m \u001b[43m                \u001b[49m\u001b[38;5;124;43m\"\u001b[39;49m\u001b[38;5;124;43mn\u001b[39;49m\u001b[38;5;124;43m\"\u001b[39;49m\u001b[43m:\u001b[49m\u001b[43m \u001b[49m\u001b[43mn\u001b[49m\u001b[43m,\u001b[49m\n\u001b[0;32m    880\u001b[0m \u001b[43m                \u001b[49m\u001b[38;5;124;43m\"\u001b[39;49m\u001b[38;5;124;43mparallel_tool_calls\u001b[39;49m\u001b[38;5;124;43m\"\u001b[39;49m\u001b[43m:\u001b[49m\u001b[43m \u001b[49m\u001b[43mparallel_tool_calls\u001b[49m\u001b[43m,\u001b[49m\n\u001b[0;32m    881\u001b[0m \u001b[43m                \u001b[49m\u001b[38;5;124;43m\"\u001b[39;49m\u001b[38;5;124;43mprediction\u001b[39;49m\u001b[38;5;124;43m\"\u001b[39;49m\u001b[43m:\u001b[49m\u001b[43m \u001b[49m\u001b[43mprediction\u001b[49m\u001b[43m,\u001b[49m\n\u001b[0;32m    882\u001b[0m \u001b[43m                \u001b[49m\u001b[38;5;124;43m\"\u001b[39;49m\u001b[38;5;124;43mpresence_penalty\u001b[39;49m\u001b[38;5;124;43m\"\u001b[39;49m\u001b[43m:\u001b[49m\u001b[43m \u001b[49m\u001b[43mpresence_penalty\u001b[49m\u001b[43m,\u001b[49m\n\u001b[0;32m    883\u001b[0m \u001b[43m                \u001b[49m\u001b[38;5;124;43m\"\u001b[39;49m\u001b[38;5;124;43mreasoning_effort\u001b[39;49m\u001b[38;5;124;43m\"\u001b[39;49m\u001b[43m:\u001b[49m\u001b[43m \u001b[49m\u001b[43mreasoning_effort\u001b[49m\u001b[43m,\u001b[49m\n\u001b[0;32m    884\u001b[0m \u001b[43m                \u001b[49m\u001b[38;5;124;43m\"\u001b[39;49m\u001b[38;5;124;43mresponse_format\u001b[39;49m\u001b[38;5;124;43m\"\u001b[39;49m\u001b[43m:\u001b[49m\u001b[43m \u001b[49m\u001b[43mresponse_format\u001b[49m\u001b[43m,\u001b[49m\n\u001b[0;32m    885\u001b[0m \u001b[43m                \u001b[49m\u001b[38;5;124;43m\"\u001b[39;49m\u001b[38;5;124;43mseed\u001b[39;49m\u001b[38;5;124;43m\"\u001b[39;49m\u001b[43m:\u001b[49m\u001b[43m \u001b[49m\u001b[43mseed\u001b[49m\u001b[43m,\u001b[49m\n\u001b[0;32m    886\u001b[0m \u001b[43m                \u001b[49m\u001b[38;5;124;43m\"\u001b[39;49m\u001b[38;5;124;43mservice_tier\u001b[39;49m\u001b[38;5;124;43m\"\u001b[39;49m\u001b[43m:\u001b[49m\u001b[43m \u001b[49m\u001b[43mservice_tier\u001b[49m\u001b[43m,\u001b[49m\n\u001b[0;32m    887\u001b[0m \u001b[43m                \u001b[49m\u001b[38;5;124;43m\"\u001b[39;49m\u001b[38;5;124;43mstop\u001b[39;49m\u001b[38;5;124;43m\"\u001b[39;49m\u001b[43m:\u001b[49m\u001b[43m \u001b[49m\u001b[43mstop\u001b[49m\u001b[43m,\u001b[49m\n\u001b[0;32m    888\u001b[0m \u001b[43m                \u001b[49m\u001b[38;5;124;43m\"\u001b[39;49m\u001b[38;5;124;43mstore\u001b[39;49m\u001b[38;5;124;43m\"\u001b[39;49m\u001b[43m:\u001b[49m\u001b[43m \u001b[49m\u001b[43mstore\u001b[49m\u001b[43m,\u001b[49m\n\u001b[0;32m    889\u001b[0m \u001b[43m                \u001b[49m\u001b[38;5;124;43m\"\u001b[39;49m\u001b[38;5;124;43mstream\u001b[39;49m\u001b[38;5;124;43m\"\u001b[39;49m\u001b[43m:\u001b[49m\u001b[43m \u001b[49m\u001b[43mstream\u001b[49m\u001b[43m,\u001b[49m\n\u001b[0;32m    890\u001b[0m \u001b[43m                \u001b[49m\u001b[38;5;124;43m\"\u001b[39;49m\u001b[38;5;124;43mstream_options\u001b[39;49m\u001b[38;5;124;43m\"\u001b[39;49m\u001b[43m:\u001b[49m\u001b[43m \u001b[49m\u001b[43mstream_options\u001b[49m\u001b[43m,\u001b[49m\n\u001b[0;32m    891\u001b[0m \u001b[43m                \u001b[49m\u001b[38;5;124;43m\"\u001b[39;49m\u001b[38;5;124;43mtemperature\u001b[39;49m\u001b[38;5;124;43m\"\u001b[39;49m\u001b[43m:\u001b[49m\u001b[43m \u001b[49m\u001b[43mtemperature\u001b[49m\u001b[43m,\u001b[49m\n\u001b[0;32m    892\u001b[0m \u001b[43m                \u001b[49m\u001b[38;5;124;43m\"\u001b[39;49m\u001b[38;5;124;43mtool_choice\u001b[39;49m\u001b[38;5;124;43m\"\u001b[39;49m\u001b[43m:\u001b[49m\u001b[43m \u001b[49m\u001b[43mtool_choice\u001b[49m\u001b[43m,\u001b[49m\n\u001b[0;32m    893\u001b[0m \u001b[43m                \u001b[49m\u001b[38;5;124;43m\"\u001b[39;49m\u001b[38;5;124;43mtools\u001b[39;49m\u001b[38;5;124;43m\"\u001b[39;49m\u001b[43m:\u001b[49m\u001b[43m \u001b[49m\u001b[43mtools\u001b[49m\u001b[43m,\u001b[49m\n\u001b[0;32m    894\u001b[0m \u001b[43m                \u001b[49m\u001b[38;5;124;43m\"\u001b[39;49m\u001b[38;5;124;43mtop_logprobs\u001b[39;49m\u001b[38;5;124;43m\"\u001b[39;49m\u001b[43m:\u001b[49m\u001b[43m \u001b[49m\u001b[43mtop_logprobs\u001b[49m\u001b[43m,\u001b[49m\n\u001b[0;32m    895\u001b[0m \u001b[43m                \u001b[49m\u001b[38;5;124;43m\"\u001b[39;49m\u001b[38;5;124;43mtop_p\u001b[39;49m\u001b[38;5;124;43m\"\u001b[39;49m\u001b[43m:\u001b[49m\u001b[43m \u001b[49m\u001b[43mtop_p\u001b[49m\u001b[43m,\u001b[49m\n\u001b[0;32m    896\u001b[0m \u001b[43m                \u001b[49m\u001b[38;5;124;43m\"\u001b[39;49m\u001b[38;5;124;43muser\u001b[39;49m\u001b[38;5;124;43m\"\u001b[39;49m\u001b[43m:\u001b[49m\u001b[43m \u001b[49m\u001b[43muser\u001b[49m\u001b[43m,\u001b[49m\n\u001b[0;32m    897\u001b[0m \u001b[43m            \u001b[49m\u001b[43m}\u001b[49m\u001b[43m,\u001b[49m\n\u001b[0;32m    898\u001b[0m \u001b[43m            \u001b[49m\u001b[43mcompletion_create_params\u001b[49m\u001b[38;5;241;43m.\u001b[39;49m\u001b[43mCompletionCreateParams\u001b[49m\u001b[43m,\u001b[49m\n\u001b[0;32m    899\u001b[0m \u001b[43m        \u001b[49m\u001b[43m)\u001b[49m\u001b[43m,\u001b[49m\n\u001b[0;32m    900\u001b[0m \u001b[43m        \u001b[49m\u001b[43moptions\u001b[49m\u001b[38;5;241;43m=\u001b[39;49m\u001b[43mmake_request_options\u001b[49m\u001b[43m(\u001b[49m\n\u001b[0;32m    901\u001b[0m \u001b[43m            \u001b[49m\u001b[43mextra_headers\u001b[49m\u001b[38;5;241;43m=\u001b[39;49m\u001b[43mextra_headers\u001b[49m\u001b[43m,\u001b[49m\u001b[43m \u001b[49m\u001b[43mextra_query\u001b[49m\u001b[38;5;241;43m=\u001b[39;49m\u001b[43mextra_query\u001b[49m\u001b[43m,\u001b[49m\u001b[43m \u001b[49m\u001b[43mextra_body\u001b[49m\u001b[38;5;241;43m=\u001b[39;49m\u001b[43mextra_body\u001b[49m\u001b[43m,\u001b[49m\u001b[43m \u001b[49m\u001b[43mtimeout\u001b[49m\u001b[38;5;241;43m=\u001b[39;49m\u001b[43mtimeout\u001b[49m\n\u001b[0;32m    902\u001b[0m \u001b[43m        \u001b[49m\u001b[43m)\u001b[49m\u001b[43m,\u001b[49m\n\u001b[0;32m    903\u001b[0m \u001b[43m        \u001b[49m\u001b[43mcast_to\u001b[49m\u001b[38;5;241;43m=\u001b[39;49m\u001b[43mChatCompletion\u001b[49m\u001b[43m,\u001b[49m\n\u001b[0;32m    904\u001b[0m \u001b[43m        \u001b[49m\u001b[43mstream\u001b[49m\u001b[38;5;241;43m=\u001b[39;49m\u001b[43mstream\u001b[49m\u001b[43m \u001b[49m\u001b[38;5;129;43;01mor\u001b[39;49;00m\u001b[43m \u001b[49m\u001b[38;5;28;43;01mFalse\u001b[39;49;00m\u001b[43m,\u001b[49m\n\u001b[0;32m    905\u001b[0m \u001b[43m        \u001b[49m\u001b[43mstream_cls\u001b[49m\u001b[38;5;241;43m=\u001b[39;49m\u001b[43mStream\u001b[49m\u001b[43m[\u001b[49m\u001b[43mChatCompletionChunk\u001b[49m\u001b[43m]\u001b[49m\u001b[43m,\u001b[49m\n\u001b[0;32m    906\u001b[0m \u001b[43m    \u001b[49m\u001b[43m)\u001b[49m\n",
      "File \u001b[1;32mf:\\repos\\Examples\\quickstarts\\azure.openai\\.venv\\Lib\\site-packages\\openai\\_base_client.py:1283\u001b[0m, in \u001b[0;36mSyncAPIClient.post\u001b[1;34m(self, path, cast_to, body, options, files, stream, stream_cls)\u001b[0m\n\u001b[0;32m   1269\u001b[0m \u001b[38;5;28;01mdef\u001b[39;00m\u001b[38;5;250m \u001b[39m\u001b[38;5;21mpost\u001b[39m(\n\u001b[0;32m   1270\u001b[0m     \u001b[38;5;28mself\u001b[39m,\n\u001b[0;32m   1271\u001b[0m     path: \u001b[38;5;28mstr\u001b[39m,\n\u001b[1;32m   (...)\u001b[0m\n\u001b[0;32m   1278\u001b[0m     stream_cls: \u001b[38;5;28mtype\u001b[39m[_StreamT] \u001b[38;5;241m|\u001b[39m \u001b[38;5;28;01mNone\u001b[39;00m \u001b[38;5;241m=\u001b[39m \u001b[38;5;28;01mNone\u001b[39;00m,\n\u001b[0;32m   1279\u001b[0m ) \u001b[38;5;241m-\u001b[39m\u001b[38;5;241m>\u001b[39m ResponseT \u001b[38;5;241m|\u001b[39m _StreamT:\n\u001b[0;32m   1280\u001b[0m     opts \u001b[38;5;241m=\u001b[39m FinalRequestOptions\u001b[38;5;241m.\u001b[39mconstruct(\n\u001b[0;32m   1281\u001b[0m         method\u001b[38;5;241m=\u001b[39m\u001b[38;5;124m\"\u001b[39m\u001b[38;5;124mpost\u001b[39m\u001b[38;5;124m\"\u001b[39m, url\u001b[38;5;241m=\u001b[39mpath, json_data\u001b[38;5;241m=\u001b[39mbody, files\u001b[38;5;241m=\u001b[39mto_httpx_files(files), \u001b[38;5;241m*\u001b[39m\u001b[38;5;241m*\u001b[39moptions\n\u001b[0;32m   1282\u001b[0m     )\n\u001b[1;32m-> 1283\u001b[0m     \u001b[38;5;28;01mreturn\u001b[39;00m cast(ResponseT, \u001b[38;5;28;43mself\u001b[39;49m\u001b[38;5;241;43m.\u001b[39;49m\u001b[43mrequest\u001b[49m\u001b[43m(\u001b[49m\u001b[43mcast_to\u001b[49m\u001b[43m,\u001b[49m\u001b[43m \u001b[49m\u001b[43mopts\u001b[49m\u001b[43m,\u001b[49m\u001b[43m \u001b[49m\u001b[43mstream\u001b[49m\u001b[38;5;241;43m=\u001b[39;49m\u001b[43mstream\u001b[49m\u001b[43m,\u001b[49m\u001b[43m \u001b[49m\u001b[43mstream_cls\u001b[49m\u001b[38;5;241;43m=\u001b[39;49m\u001b[43mstream_cls\u001b[49m\u001b[43m)\u001b[49m)\n",
      "File \u001b[1;32mf:\\repos\\Examples\\quickstarts\\azure.openai\\.venv\\Lib\\site-packages\\openai\\_base_client.py:960\u001b[0m, in \u001b[0;36mSyncAPIClient.request\u001b[1;34m(self, cast_to, options, remaining_retries, stream, stream_cls)\u001b[0m\n\u001b[0;32m    957\u001b[0m \u001b[38;5;28;01melse\u001b[39;00m:\n\u001b[0;32m    958\u001b[0m     retries_taken \u001b[38;5;241m=\u001b[39m \u001b[38;5;241m0\u001b[39m\n\u001b[1;32m--> 960\u001b[0m \u001b[38;5;28;01mreturn\u001b[39;00m \u001b[38;5;28;43mself\u001b[39;49m\u001b[38;5;241;43m.\u001b[39;49m\u001b[43m_request\u001b[49m\u001b[43m(\u001b[49m\n\u001b[0;32m    961\u001b[0m \u001b[43m    \u001b[49m\u001b[43mcast_to\u001b[49m\u001b[38;5;241;43m=\u001b[39;49m\u001b[43mcast_to\u001b[49m\u001b[43m,\u001b[49m\n\u001b[0;32m    962\u001b[0m \u001b[43m    \u001b[49m\u001b[43moptions\u001b[49m\u001b[38;5;241;43m=\u001b[39;49m\u001b[43moptions\u001b[49m\u001b[43m,\u001b[49m\n\u001b[0;32m    963\u001b[0m \u001b[43m    \u001b[49m\u001b[43mstream\u001b[49m\u001b[38;5;241;43m=\u001b[39;49m\u001b[43mstream\u001b[49m\u001b[43m,\u001b[49m\n\u001b[0;32m    964\u001b[0m \u001b[43m    \u001b[49m\u001b[43mstream_cls\u001b[49m\u001b[38;5;241;43m=\u001b[39;49m\u001b[43mstream_cls\u001b[49m\u001b[43m,\u001b[49m\n\u001b[0;32m    965\u001b[0m \u001b[43m    \u001b[49m\u001b[43mretries_taken\u001b[49m\u001b[38;5;241;43m=\u001b[39;49m\u001b[43mretries_taken\u001b[49m\u001b[43m,\u001b[49m\n\u001b[0;32m    966\u001b[0m \u001b[43m\u001b[49m\u001b[43m)\u001b[49m\n",
      "File \u001b[1;32mf:\\repos\\Examples\\quickstarts\\azure.openai\\.venv\\Lib\\site-packages\\openai\\_base_client.py:1064\u001b[0m, in \u001b[0;36mSyncAPIClient._request\u001b[1;34m(self, cast_to, options, retries_taken, stream, stream_cls)\u001b[0m\n\u001b[0;32m   1061\u001b[0m         err\u001b[38;5;241m.\u001b[39mresponse\u001b[38;5;241m.\u001b[39mread()\n\u001b[0;32m   1063\u001b[0m     log\u001b[38;5;241m.\u001b[39mdebug(\u001b[38;5;124m\"\u001b[39m\u001b[38;5;124mRe-raising status error\u001b[39m\u001b[38;5;124m\"\u001b[39m)\n\u001b[1;32m-> 1064\u001b[0m     \u001b[38;5;28;01mraise\u001b[39;00m \u001b[38;5;28mself\u001b[39m\u001b[38;5;241m.\u001b[39m_make_status_error_from_response(err\u001b[38;5;241m.\u001b[39mresponse) \u001b[38;5;28;01mfrom\u001b[39;00m\u001b[38;5;250m \u001b[39m\u001b[38;5;28;01mNone\u001b[39;00m\n\u001b[0;32m   1066\u001b[0m \u001b[38;5;28;01mreturn\u001b[39;00m \u001b[38;5;28mself\u001b[39m\u001b[38;5;241m.\u001b[39m_process_response(\n\u001b[0;32m   1067\u001b[0m     cast_to\u001b[38;5;241m=\u001b[39mcast_to,\n\u001b[0;32m   1068\u001b[0m     options\u001b[38;5;241m=\u001b[39moptions,\n\u001b[1;32m   (...)\u001b[0m\n\u001b[0;32m   1072\u001b[0m     retries_taken\u001b[38;5;241m=\u001b[39mretries_taken,\n\u001b[0;32m   1073\u001b[0m )\n",
      "\u001b[1;31mNotFoundError\u001b[0m: Error code: 404 - {'message': \"Category 'system.azureopenai' and resource 'YOUR_AZURE_OPENAI_MODEL' not found\", 'statusCode': 404, 'xproxy_error': {'code': 'category_resource_not_found', 'message': \"Category 'system.azureopenai' and resource 'YOUR_AZURE_OPENAI_MODEL' not found\"}}"
     ]
    }
   ],
   "source": [
    "from payi.lib.helpers import payi_azure_openai_url\n",
    "from openai import AzureOpenAI\n",
    "import json\n",
    "import os\n",
    "\n",
    "#Read the API KEYs from the environment, replace the default values (the second argument) with your own keys if needed\n",
    "aoai_key = os.getenv(\"AZURE_OPENAI_API_KEY\", \"YOUR_AZURE_OPENAI_API_KEY\")\n",
    "payi_api_key = os.getenv(\"PAYI_API_KEY\", \"YOUR_PAYI_API_KEY\")\n",
    "\n",
    "aoai_api_version = \"2024-02-15-preview\"\n",
    "\n",
    "#Replace with your Azure OpenAI Model Name, e.g. \"gpt-4o-2024-05-13\"\n",
    "#Note that the full model name is required by Azure OpenAI\n",
    "aoai_model = \"YOUR_AZURE_OPENAI_MODEL\"\n",
    "\n",
    "#Replace with your Azure OpenAI Deployment Name, e.g. \"test-4o\"\n",
    "aoai_deployment = \"YOUR_AZURE_OPENAI_DEPLOYMENT\"\n",
    "\n",
    "#Replace with your deployed Azure OpenAI endpoint URI\n",
    "aoai_instance_uri = \"YOUR_AZURE_OPENAI_ENDPOINT\"\n",
    "\n",
    "payi_headers = {\n",
    "    \"xProxy-api-key\": payi_api_key,\n",
    "    \"xProxy-Provider-BaseUri\": aoai_instance_uri,\n",
    "    \"xProxy-RouteAs-Resource\": aoai_model,\n",
    "}\n",
    "\n",
    "oai_client = AzureOpenAI(\n",
    "    api_key=aoai_key,\n",
    "    api_version=aoai_api_version,\n",
    "    azure_endpoint=payi_azure_openai_url(),\n",
    "    default_headers=payi_headers\n",
    ")\n",
    "\n",
    "response = oai_client.chat.completions.create(\n",
    "    model=aoai_deployment,\n",
    "    messages=[{\"role\": \"user\", \"content\": \"Say 'this is a test'\"}]\n",
    ")\n",
    "\n",
    "completion = response.choices[0].message.content\n",
    "print(completion)\n",
    "\n",
    "xproxy_result = response.xproxy_result\n",
    "print(json.dumps(xproxy_result, indent=4))"
   ]
  },
  {
   "cell_type": "markdown",
   "metadata": {},
   "source": [
    "Handle streaming calls. xproxy_result is returned as part of the last chunk."
   ]
  },
  {
   "cell_type": "code",
   "execution_count": null,
   "metadata": {},
   "outputs": [],
   "source": [
    "stream = oai_client.chat.completions.create(\n",
    "    model=aoai_deployment,\n",
    "    messages=[{\"role\": \"user\", \"content\": \"tell me a very short story\"}],\n",
    "    stream=True,\n",
    ")\n",
    "for chunk in stream:\n",
    "    if chunk.choices is not None and len(chunk.choices) > 0 and chunk.choices[0].delta.content is not None:\n",
    "        print(chunk.choices[0].delta.content, end=\"\")\n",
    "    if 'xproxy_result' in chunk.model_extra:\n",
    "        print()\n",
    "        print(json.dumps(chunk.model_extra['xproxy_result'], indent=4))"
   ]
  },
  {
   "cell_type": "markdown",
   "metadata": {},
   "source": [
    "Use the Pay-i SDK to send a request with a request tag"
   ]
  },
  {
   "cell_type": "code",
   "execution_count": null,
   "metadata": {},
   "outputs": [],
   "source": [
    "from payi.lib.helpers import create_headers\n",
    "\n",
    "response = oai_client.chat.completions.create(\n",
    "    model=aoai_deployment,\n",
    "    messages=[{\"role\": \"user\", \"content\": \"Say 'this is a test'\"}],\n",
    "    extra_headers=create_headers(request_tags=[\"x\", \"y\"])\n",
    ")\n",
    "\n",
    "completion = response.choices[0].message.content\n",
    "print(completion)\n",
    "\n",
    "xproxy_result = response.xproxy_result\n",
    "print(json.dumps(xproxy_result, indent=4))"
   ]
  },
  {
   "cell_type": "markdown",
   "metadata": {},
   "source": [
    "Create a limit and make a request with that limit"
   ]
  },
  {
   "cell_type": "code",
   "execution_count": null,
   "metadata": {},
   "outputs": [],
   "source": [
    "from payi import Payi\n",
    "\n",
    "payi_client = Payi(\n",
    "    api_key=payi_api_key\n",
    ")\n",
    "\n",
    "#Create a limit\n",
    "limit_response = payi_client.limits.create(\n",
    "    #As long as the limit configuration remains the same across creates, the same limit name can be used repeatedly\n",
    "    limit_name='Azure OpenAI quickstart allow limit', \n",
    "    max=12.50, #$12.50 USD\n",
    "    limit_type=\"Allow\",\n",
    "    limit_tags=[\"example_limit\"]\n",
    ")\n",
    "\n",
    "limit_name = limit_response.limit.limit_name\n",
    "limit_id = limit_response.limit.limit_id\n",
    "\n",
    "print(\"Limit Created\")\n",
    "print(f\"Limit Name: {limit_name}\")\n",
    "print(f\"Limit ID: {limit_id}\")\n",
    "\n",
    "#Make a request using the new limit and request tags\n",
    "response = oai_client.chat.completions.create(\n",
    "    model=aoai_deployment, \n",
    "    messages=[{\"role\": \"user\", \"content\": \"Say 'this is a test'\"}],\n",
    "    extra_headers=create_headers(\n",
    "        request_tags=[\"x\", \"y\"], \n",
    "        limit_ids=[limit_id]\n",
    "    )\n",
    ")\n",
    "\n",
    "completion = response.choices[0].message.content\n",
    "print(completion)\n",
    "\n",
    "xproxy_result = response.xproxy_result\n",
    "print(json.dumps(xproxy_result, indent=4))"
   ]
  },
  {
   "cell_type": "markdown",
   "metadata": {},
   "source": [
    "See limit status"
   ]
  },
  {
   "cell_type": "code",
   "execution_count": null,
   "metadata": {},
   "outputs": [],
   "source": [
    "response = payi_client.limits.retrieve(limit_id=limit_id)\n",
    "print(f\"Limit Name: {response.limit.limit_name}\")\n",
    "print(f\"Limit ID: {response.limit.limit_id}\")\n",
    "print(f\"Limit Creation Timestamp: {response.limit.limit_creation_timestamp}\")\n",
    "print(f\"Limit Tags: {response.limit.limit_tags}\")\n",
    "print(f\"Limit Input Base Cost: {response.limit.totals.cost.input.base}\")\n",
    "print(f\"Limit Output Base Cost: {response.limit.totals.cost.output.base}\")\n",
    "print(f\"Limit Total Base Cost: {response.limit.totals.cost.output.base}\")"
   ]
  },
  {
   "cell_type": "markdown",
   "metadata": {},
   "source": [
    "Make an ingest call with pre-computed token values"
   ]
  },
  {
   "cell_type": "code",
   "execution_count": null,
   "metadata": {},
   "outputs": [],
   "source": [
    "response = payi_client.ingest.units(\n",
    "    category=\"system.openai\",\n",
    "    resource=\"gpt-4o\",\n",
    "    units={ \"text\": { \"input\": 50, \"output\": 100 } },\n",
    "    limit_ids= [limit_id],\n",
    "    request_tags = [\"a\", \"b\"]\n",
    ")\n",
    "\n",
    "print(f\"Ingest request ID: {response.request_id}\")\n",
    "print(f\"Input Base Cost: {response.xproxy_result.cost.input.base}\")\n",
    "print(f\"Output Base Cost: {response.xproxy_result.cost.output.base}\")\n",
    "print(f\"Total Base Cost: {response.xproxy_result.cost.total.base}\")"
   ]
  },
  {
   "cell_type": "markdown",
   "metadata": {},
   "source": [
    "Reset a limit back to zero tracked cost"
   ]
  },
  {
   "cell_type": "code",
   "execution_count": null,
   "metadata": {},
   "outputs": [],
   "source": [
    "response = payi_client.limits.reset(limit_id=limit_id)\n",
    "print(response.message)\n",
    "print(\"State prior to reset: \")\n",
    "print(f\"Limit Name: {response.limit_history.limit_name}\")\n",
    "print(f\"Limit ID: {response.limit_history.limit_id}\")\n",
    "print(f\"Limit Tags: {response.limit_history.limit_tags}\")\n",
    "print(f\"Limit Reset Timestamp: {response.limit_history.limit_reset_timestamp}\")\n",
    "print(f\"Limit Input Base Cost: {response.limit_history.totals.cost.input.base}\")\n",
    "print(f\"Limit Output Base Cost: {response.limit_history.totals.cost.output.base}\")\n",
    "print(f\"Limit Total Base Cost: {response.limit_history.totals.cost.total.base}\")\n",
    "\n",
    "print(\"\\nState after reset:\")\n",
    "response = payi_client.limits.retrieve(limit_id=limit_id)\n",
    "print(f\"Limit Name: {response.limit.limit_name}\")\n",
    "print(f\"Limit ID: {response.limit.limit_id}\")\n",
    "print(f\"Limit Creation Timestamp: {response.limit.limit_creation_timestamp}\")\n",
    "print(f\"Limit Tags: {response.limit.limit_tags}\")\n",
    "print(f\"Limit Input Base Cost: {response.limit.totals.cost}\")\n",
    "print(f\"Limit Output Base Cost: {response.limit.totals.cost.output.base}\")\n",
    "print(f\"Limit Total Base Cost: {response.limit.totals.cost.total.base}\")"
   ]
  },
  {
   "cell_type": "markdown",
   "metadata": {},
   "source": [
    "Create a small blocking limit that will prevent calls from happening that exceed the maximum, then capture the output."
   ]
  },
  {
   "cell_type": "code",
   "execution_count": null,
   "metadata": {},
   "outputs": [],
   "source": [
    "limit_response = payi_client.limits.create(\n",
    "    #As long as the limit configuration remains the same across creates, the same limit name can be used repeatedly\n",
    "    limit_name='Azure OpenAI quickstart block limit',\n",
    "    max=0.0000001,\n",
    "    limit_type=\"block\",\n",
    "    limit_tags=[\"limit_block_example\"]\n",
    ")\n",
    "block_limit = limit_response.limit.limit_id\n",
    "\n",
    "print(\"Limit Created\")\n",
    "print(f\"Limit Name: {limit_response.limit.limit_name}\")\n",
    "print(f\"Limit ID: {limit_response.limit.limit_id}\")\n",
    "\n",
    "try:\n",
    "    response = oai_client.chat.completions.create(\n",
    "        model=aoai_deployment,\n",
    "        messages=[{\"role\": \"user\", \"content\": \"provide me a list of toys for children 5 and under\"}],\n",
    "        extra_headers=create_headers(\n",
    "            request_tags=[\"toy_story\"], \n",
    "            limit_ids=[block_limit]\n",
    "        )\n",
    "    )\n",
    "\n",
    "    completion = response.choices[0].message.content\n",
    "    print(completion)\n",
    "\n",
    "    response = oai_client.chat.completions.create(\n",
    "        model=aoai_deployment,\n",
    "        messages=[{\"role\": \"user\", \"content\": \"tell me a short story about a toy\"}],\n",
    "        extra_headers=create_headers(\n",
    "            request_tags=[\"toy_story\"], \n",
    "            limit_ids=[block_limit]\n",
    "        )\n",
    "    )\n",
    "except Exception as e:\n",
    "    print(json.dumps(e.body, indent=4))"
   ]
  },
  {
   "cell_type": "markdown",
   "metadata": {},
   "source": [
    "Create an experience type and send a request with the experience type. Pay-i will auto generate an experience id that can be specified later."
   ]
  },
  {
   "cell_type": "code",
   "execution_count": null,
   "metadata": {},
   "outputs": [],
   "source": [
    "# Create an experience type\n",
    "exp_name=\"quickstart_experience\"\n",
    "exp_type_response = payi_client.experiences.types.create(\n",
    "    name=exp_name,\n",
    "    description=\"An example of an experience\"\n",
    ")\n",
    "\n",
    "#Make a request using the new limit and request tags\n",
    "response = oai_client.chat.completions.create(\n",
    "    model=aoai_deployment, \n",
    "    messages=[{\"role\": \"user\", \"content\": \"Say 'this is a test'\"}],\n",
    "    extra_headers=create_headers(\n",
    "        request_tags=[\"x\", \"y\"], \n",
    "        limit_ids=[limit_id],\n",
    "        experience_name=exp_name\n",
    "    )\n",
    ")\n",
    "\n",
    "completion = response.choices[0].message.content\n",
    "print(completion)\n",
    "\n",
    "xproxy_result = response.xproxy_result\n",
    "experience_id = xproxy_result['experience_id']\n",
    "print(json.dumps(xproxy_result, indent=4))"
   ]
  },
  {
   "cell_type": "markdown",
   "metadata": {},
   "source": [
    "Send a request with a limit and user ID"
   ]
  },
  {
   "cell_type": "code",
   "execution_count": null,
   "metadata": {},
   "outputs": [],
   "source": [
    "#Make a request using the limit and user id\n",
    "response = oai_client.chat.completions.create(\n",
    "    model=aoai_deployment, \n",
    "    messages=[{\"role\": \"user\", \"content\": \"Say 'this is a test'\"}],\n",
    "    extra_headers=create_headers(\n",
    "        limit_ids=[limit_id],\n",
    "        # user id can be any string value\n",
    "        user_id=\"example_user_id\"\n",
    "    )\n",
    ")\n",
    "\n",
    "completion = response.choices[0].message.content\n",
    "print(completion)\n",
    "\n",
    "xproxy_result = response.xproxy_result\n",
    "print(json.dumps(xproxy_result, indent=4))"
   ]
  },
  {
   "cell_type": "markdown",
   "metadata": {},
   "source": [
    "List and then delete all limits"
   ]
  },
  {
   "cell_type": "code",
   "execution_count": null,
   "metadata": {},
   "outputs": [],
   "source": [
    "response = payi_client.limits.list()\n",
    "for limit in response.items:\n",
    "    print(\"Deleting limit with id:\" + limit.limit_id)\n",
    "    payi_client.limits.delete(limit.limit_id)"
   ]
  }
 ],
 "metadata": {
  "kernelspec": {
   "display_name": ".venv",
   "language": "python",
   "name": "python3"
  },
  "language_info": {
   "codemirror_mode": {
    "name": "ipython",
    "version": 3
   },
   "file_extension": ".py",
   "mimetype": "text/x-python",
   "name": "python",
   "nbconvert_exporter": "python",
   "pygments_lexer": "ipython3",
   "version": "3.12.9"
  }
 },
 "nbformat": 4,
 "nbformat_minor": 2
}
