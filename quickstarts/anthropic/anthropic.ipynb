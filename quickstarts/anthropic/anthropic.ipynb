{
 "cells": [
  {
   "cell_type": "code",
   "execution_count": null,
   "metadata": {},
   "outputs": [],
   "source": [
    "%pip install --upgrade -r requirements.txt"
   ]
  },
  {
   "cell_type": "markdown",
   "metadata": {},
   "source": [
    "Basic Anthropic Integration"
   ]
  },
  {
   "cell_type": "code",
   "execution_count": null,
   "metadata": {},
   "outputs": [],
   "source": [
    "from anthropic import Anthropic \n",
    "import json\n",
    "import os\n",
    "\n",
    "#Read the API KEYs from the environment, replace the default values (the second argument) with your own keys if needed\n",
    "anthropic_key = os.getenv(\"ANTHROPIC_API_KEY\", \"YOUR_ANTHROPIC_API_KEY\")\n",
    "payi_api_key = os.getenv(\"PAYI_API_KEY\", \"YOUR_PAYI_API_KEY\")\n",
    "\n",
    "payi_headers = {\n",
    "    \"xProxy-api-key\": payi_api_key,\n",
    "}\n",
    "\n",
    "payi_base_url = \"https://api.pay-i.com\"\n",
    "payi_anthropic_url = payi_base_url + \"/api/v1/proxy/anthropic\"\n",
    "\n",
    "client = Anthropic(\n",
    "    base_url=payi_anthropic_url,\n",
    "    api_key=anthropic_key,\n",
    "    default_headers=payi_headers\n",
    ")\n",
    "\n",
    "message = client.messages.create(\n",
    "    model=\"claude-3-sonnet-20240229\",\n",
    "    max_tokens=500,\n",
    "    messages=[\n",
    "        {\n",
    "            \"role\": \"user\",\n",
    "            \"content\": [\n",
    "                {\n",
    "                    \"type\": \"text\",\n",
    "                    \"text\": \"Say 'this is a test'\"\n",
    "                }\n",
    "            ]\n",
    "        }\n",
    "    ]\n",
    ")\n",
    "completion = message.content[0].text\n",
    "print(completion)\n",
    "\n",
    "xproxy_result = message.xproxy_result\n",
    "print(json.dumps(xproxy_result, indent=4))\n"
   ]
  },
  {
   "cell_type": "markdown",
   "metadata": {},
   "source": [
    "Handle streaming calls. xproxy_result is returned as part of the last chunk."
   ]
  },
  {
   "cell_type": "code",
   "execution_count": null,
   "metadata": {},
   "outputs": [],
   "source": [
    "stream = client.messages.create(\n",
    "    model=\"claude-3-sonnet-20240229\",\n",
    "    max_tokens=500,\n",
    "    messages=[\n",
    "        {\n",
    "            \"role\": \"user\",\n",
    "            \"content\": [\n",
    "                {\n",
    "                    \"type\": \"text\",\n",
    "                    \"text\": \"Say 'this is a test'\"\n",
    "                }\n",
    "            ]\n",
    "        }\n",
    "    ],\n",
    "    stream=True\n",
    ")\n",
    "\n",
    "message = \"\"\n",
    "input_tokens = None\n",
    "output_tokens = None\n",
    "for event in stream:\n",
    "    match event.type:\n",
    "        case \"message_start\":\n",
    "            input_tokens = event.message.usage.input_tokens\n",
    "        case \"content_block_start\":\n",
    "            message += event.content_block.text\n",
    "        case \"content_block_delta\":\n",
    "            message += event.delta.text\n",
    "        case \"message_delta\":\n",
    "            output_tokens = event.usage.output_tokens\n",
    "            if 'xproxy_result' in event.model_extra:\n",
    "                xproxy_result = event.model_extra['xproxy_result']\n",
    "        case \"content_block_stop\" | \"message_stop\":\n",
    "            ...\n",
    "\n",
    "print(message)\n",
    "if (xproxy_result is not None):\n",
    "    print()\n",
    "    print(json.dumps(xproxy_result, indent=4))"
   ]
  },
  {
   "cell_type": "markdown",
   "metadata": {},
   "source": [
    "Use the Pay-i SDK to send a request with request tags"
   ]
  },
  {
   "cell_type": "code",
   "execution_count": null,
   "metadata": {},
   "outputs": [],
   "source": [
    "from payi.lib.helpers import create_headers\n",
    "\n",
    "message = client.messages.create(\n",
    "    model=\"claude-3-sonnet-20240229\",\n",
    "    max_tokens=500,\n",
    "    messages=[\n",
    "        {\n",
    "            \"role\": \"user\",\n",
    "            \"content\": [\n",
    "                {\n",
    "                    \"type\": \"text\",\n",
    "                    \"text\": \"Say 'this is a request tag test'\"\n",
    "                }\n",
    "            ]\n",
    "        }\n",
    "    ],\n",
    "    extra_headers=create_headers(request_tags=[\"x\", \"y\"])\n",
    ")\n",
    "\n",
    "completion = message.content[0].text\n",
    "print(completion)\n",
    "\n",
    "xproxy_result = message.xproxy_result\n",
    "print(json.dumps(xproxy_result, indent=4))"
   ]
  },
  {
   "cell_type": "markdown",
   "metadata": {},
   "source": [
    "Create a budget and make a request with that budget"
   ]
  },
  {
   "cell_type": "code",
   "execution_count": null,
   "metadata": {},
   "outputs": [],
   "source": [
    "from payi import Payi\n",
    "\n",
    "payi_client = Payi(\n",
    "    api_key=payi_api_key\n",
    ")\n",
    "\n",
    "#Create a budget\n",
    "budget_response = payi_client.budgets.create(\n",
    "    #As long as the budget configuration remains the same across creates, the same budget name can be used repeatedly\n",
    "    budget_name='Anthropic quickstart allow budget',\n",
    "    max=12.50, #$12.50 USD\n",
    "    budget_response_type=\"Allow\",\n",
    "    budget_tags=[\"example_budget\"]\n",
    ")\n",
    "\n",
    "budget_name = budget_response.budget.budget_name\n",
    "budget_id = budget_response.budget.budget_id\n",
    "\n",
    "print(\"Budget Created\")\n",
    "print(f\"Budget Name: {budget_name}\")\n",
    "print(f\"Budget ID: {budget_id}\")\n",
    "\n",
    "#Make a request using the new budget and request tags\n",
    "message = client.messages.create(\n",
    "    model=\"claude-3-sonnet-20240229\",\n",
    "    max_tokens=500,\n",
    "    messages=[\n",
    "        {\n",
    "            \"role\": \"user\",\n",
    "            \"content\": [\n",
    "                {\n",
    "                    \"type\": \"text\",\n",
    "                    \"text\": \"Say 'this is a test'\"\n",
    "                }\n",
    "            ]\n",
    "        }\n",
    "    ],\n",
    "    extra_headers=create_headers(\n",
    "        request_tags=[\"x\", \"y\"],\n",
    "        budget_ids=[budget_id]\n",
    "    )\n",
    ")\n",
    "\n",
    "completion = message.content[0].text\n",
    "print(completion)\n",
    "\n",
    "xproxy_result = message.xproxy_result\n",
    "print(json.dumps(xproxy_result, indent=4))"
   ]
  },
  {
   "cell_type": "markdown",
   "metadata": {},
   "source": [
    "See budget status"
   ]
  },
  {
   "cell_type": "code",
   "execution_count": null,
   "metadata": {},
   "outputs": [],
   "source": [
    "response = payi_client.budgets.retrieve(budget_id=budget_id)\n",
    "print(f\"Budget Name: {response.budget.budget_name}\")\n",
    "print(f\"Budget ID: {response.budget.budget_id}\")\n",
    "print(f\"Budget Creation Timestamp: {response.budget.budget_creation_timestamp}\")\n",
    "print(f\"Budget Tags: {response.budget.budget_tags}\")\n",
    "print(f\"Budget Input Base Cost: {response.budget.totals.cost.input.base}\")\n",
    "print(f\"Budget Output Base Cost: {response.budget.totals.cost.output.base}\")\n",
    "print(f\"Budget Total Base Cost: {response.budget.totals.cost.output.base}\")"
   ]
  },
  {
   "cell_type": "markdown",
   "metadata": {},
   "source": [
    "Make an ingest call with pre-computed token values"
   ]
  },
  {
   "cell_type": "code",
   "execution_count": null,
   "metadata": {},
   "outputs": [],
   "source": [
    "response = payi_client.ingest.units(\n",
    "    category=\"system.anthropic\",\n",
    "    resource=\"claude-3-sonnet-20240229\",\n",
    "    units={ \"text\": { \"input\": 50, \"output\": 100 } },\n",
    "    budget_ids=[budget_id],\n",
    "    request_tags=[\"a\", \"b\"]\n",
    ")\n",
    "\n",
    "print(f\"Ingest request ID: {response.request_id}\")\n",
    "print(f\"Input Base Cost: {response.xproxy_result.cost.input.base}\")\n",
    "print(f\"Output Base Cost: {response.xproxy_result.cost.output.base}\")\n",
    "print(f\"Total Base Cost: {response.xproxy_result.cost.total.base}\")"
   ]
  },
  {
   "cell_type": "markdown",
   "metadata": {},
   "source": [
    "Reset a budget back to zero tracked cost"
   ]
  },
  {
   "cell_type": "code",
   "execution_count": null,
   "metadata": {},
   "outputs": [],
   "source": [
    "response = payi_client.budgets.reset(budget_id=budget_id)\n",
    "print(response.message)\n",
    "print(\"State prior to reset: \")\n",
    "print(f\"Budget Name: {response.budget_history.budget_name}\")\n",
    "print(f\"Budget ID: {response.budget_history.budget_id}\")\n",
    "print(f\"Budget Tags: {response.budget_history.budget_tags}\")\n",
    "print(f\"Budget Reset Timestamp: {response.budget_history.budget_reset_timestamp}\")\n",
    "print(f\"Budget Input Base Cost: {response.budget_history.totals.cost.input.base}\")\n",
    "print(f\"Budget Output Base Cost: {response.budget_history.totals.cost.output.base}\")\n",
    "print(f\"Budget Total Base Cost: {response.budget_history.totals.cost.total.base}\")\n",
    "\n",
    "print(\"\\nState after reset:\")\n",
    "response = payi_client.budgets.retrieve(budget_id=budget_id)\n",
    "print(f\"Budget Name: {response.budget.budget_name}\")\n",
    "print(f\"Budget ID: {response.budget.budget_id}\")\n",
    "print(f\"Budget Creation Timestamp: {response.budget.budget_creation_timestamp}\")\n",
    "print(f\"Budget Tags: {response.budget.budget_tags}\")\n",
    "print(f\"Budget Input Base Cost: {response.budget.totals.cost}\")\n",
    "print(f\"Budget Output Base Cost: {response.budget.totals.cost.output.base}\")\n",
    "print(f\"Budget Total Base Cost: {response.budget.totals.cost.total.base}\")"
   ]
  },
  {
   "cell_type": "markdown",
   "metadata": {},
   "source": [
    "Create a small, conservative budget that will prevent calls from happening that exceed the maximum, then capture the output."
   ]
  },
  {
   "cell_type": "code",
   "execution_count": null,
   "metadata": {},
   "outputs": [],
   "source": [
    "budget_response = payi_client.budgets.create(\n",
    "    #As long as the budget configuration remains the same across creates, the same budget name can be used repeatedly\n",
    "    budget_name='Anthropic quickstart block budget',\n",
    "    max=0.00000001, \n",
    "    budget_response_type=\"block\",\n",
    "    budget_tags=[\"budget_block_example\"]\n",
    ")\n",
    "block_budget = budget_response.budget.budget_id\n",
    "\n",
    "print(\"Budget Created\")\n",
    "print(f\"Budget Name: {budget_response.budget.budget_name}\")\n",
    "print(f\"Budget ID: {budget_response.budget.budget_id}\")\n",
    "\n",
    "try:\n",
    "    response = client.messages.create(\n",
    "        model=\"claude-3-sonnet-20240229\",\n",
    "        max_tokens=500,\n",
    "        messages=[\n",
    "            {\n",
    "                \"role\": \"user\",\n",
    "                \"content\": [\n",
    "                    {\n",
    "                        \"type\": \"text\",\n",
    "                        \"text\": \"provide me a list of toys for children 5 and under\"\n",
    "                    }\n",
    "                ]\n",
    "            }\n",
    "        ],\n",
    "        extra_headers=create_headers(\n",
    "            request_tags=[\"x\", \"y\"],\n",
    "            budget_ids=[block_budget]\n",
    "        )\n",
    "    )\n",
    "\n",
    "    completion = message.content[0].text\n",
    "    print(completion)\n",
    "\n",
    "    response = client.messages.create(\n",
    "        model=\"claude-3-sonnet-20240229\",\n",
    "        max_tokens=500,\n",
    "        messages=[\n",
    "            {\n",
    "                \"role\": \"user\",\n",
    "                \"content\": [\n",
    "                    {\n",
    "                        \"type\": \"text\",\n",
    "                        \"text\": \"tell me a short story about a toy\"\n",
    "                    }\n",
    "                ]\n",
    "            }\n",
    "        ],\n",
    "        extra_headers=create_headers(\n",
    "            request_tags=[\"x\", \"y\"],\n",
    "            budget_ids=[block_budget]\n",
    "        )\n",
    "    )\n",
    "except Exception as e:\n",
    "    print(json.dumps(e.body, indent=4))"
   ]
  },
  {
   "cell_type": "markdown",
   "metadata": {},
   "source": [
    "Create an experience type and instance, then send a request with the experience instance"
   ]
  },
  {
   "cell_type": "code",
   "execution_count": null,
   "metadata": {},
   "outputs": [],
   "source": [
    "# Create an experience type\n",
    "exp_name=\"quickstart_experience\"\n",
    "exp_type_response = payi_client.experiences.types.create(\n",
    "    name=exp_name,\n",
    "    description=\"An example of an experience\"\n",
    ")\n",
    "\n",
    "# Create an experience of the type\n",
    "exp_response = payi_client.experiences.create(\n",
    "    experience_name=exp_name,\n",
    ")\n",
    "\n",
    "# Make a request using the budget, request tags, and experience\n",
    "message = client.messages.create(\n",
    "    model=\"claude-3-sonnet-20240229\",\n",
    "    max_tokens=500,\n",
    "    messages=[\n",
    "        {\n",
    "            \"role\": \"user\",\n",
    "            \"content\": [\n",
    "                {\n",
    "                    \"type\": \"text\",\n",
    "                    \"text\": \"Say 'this is a test'\"\n",
    "                }\n",
    "            ]\n",
    "        }\n",
    "    ],\n",
    "    extra_headers=create_headers(\n",
    "        request_tags=[\"x\", \"y\"],\n",
    "        budget_ids=[budget_id],\n",
    "        experience_id=exp_response.experience_id\n",
    "    )\n",
    ")\n",
    "\n",
    "completion = message.content[0].text\n",
    "print(completion)\n",
    "\n",
    "xproxy_result = message.xproxy_result\n",
    "print(json.dumps(xproxy_result, indent=4))"
   ]
  },
  {
   "cell_type": "markdown",
   "metadata": {},
   "source": [
    "Send a request with a budget and user ID"
   ]
  },
  {
   "cell_type": "code",
   "execution_count": null,
   "metadata": {},
   "outputs": [],
   "source": [
    "# Make a request using the budget, request tags, and user id\n",
    "message = client.messages.create(\n",
    "    model=\"claude-3-sonnet-20240229\",\n",
    "    max_tokens=500,\n",
    "    messages=[\n",
    "        {\n",
    "            \"role\": \"user\",\n",
    "            \"content\": [\n",
    "                {\n",
    "                    \"type\": \"text\",\n",
    "                    \"text\": \"Say 'this is a test'\"\n",
    "                }\n",
    "            ]\n",
    "        }\n",
    "    ],\n",
    "    extra_headers=create_headers(\n",
    "        budget_ids=[budget_id],\n",
    "        # user id can be any string value\n",
    "        user_id=\"example_user_id\"\n",
    "    )\n",
    ")\n",
    "\n",
    "completion = message.content[0].text\n",
    "print(completion)\n",
    "\n",
    "xproxy_result = message.xproxy_result\n",
    "print(json.dumps(xproxy_result, indent=4))"
   ]
  },
  {
   "cell_type": "markdown",
   "metadata": {},
   "source": [
    "List and then delete all budgets"
   ]
  },
  {
   "cell_type": "code",
   "execution_count": null,
   "metadata": {},
   "outputs": [],
   "source": [
    "response = payi_client.budgets.list()\n",
    "for budget in response.items:\n",
    "    print(\"Deleting budget with id:\" + budget.budget_id)\n",
    "    payi_client.budgets.delete(budget.budget_id)"
   ]
  }
 ],
 "metadata": {
  "kernelspec": {
   "display_name": "Python 3",
   "language": "python",
   "name": "python3"
  },
  "language_info": {
   "codemirror_mode": {
    "name": "ipython",
    "version": 3
   },
   "file_extension": ".py",
   "mimetype": "text/x-python",
   "name": "python",
   "nbconvert_exporter": "python",
   "pygments_lexer": "ipython3",
   "version": "3.12.5"
  }
 },
 "nbformat": 4,
 "nbformat_minor": 2
}
